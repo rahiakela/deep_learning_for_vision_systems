{
  "nbformat": 4,
  "nbformat_minor": 0,
  "metadata": {
    "anaconda-cloud": {},
    "kernelspec": {
      "display_name": "Python 3",
      "language": "python",
      "name": "python3"
    },
    "language_info": {
      "codemirror_mode": {
        "name": "ipython",
        "version": 3
      },
      "file_extension": ".py",
      "mimetype": "text/x-python",
      "name": "python",
      "nbconvert_exporter": "python",
      "pygments_lexer": "ipython3",
      "version": "3.7.6"
    },
    "colab": {
      "name": "lenet_implementation_in_keras.ipynb",
      "provenance": [],
      "toc_visible": true,
      "include_colab_link": true
    }
  },
  "cells": [
    {
      "cell_type": "markdown",
      "metadata": {
        "id": "view-in-github",
        "colab_type": "text"
      },
      "source": [
        "<a href=\"https://colab.research.google.com/github/rahiakela/deep_learning_for_vision_systems/blob/master/5-advanced-cnn-architectures/1_lenet_implementation_in_keras.ipynb\" target=\"_parent\"><img src=\"https://colab.research.google.com/assets/colab-badge.svg\" alt=\"Open In Colab\"/></a>"
      ]
    },
    {
      "cell_type": "markdown",
      "metadata": {
        "id": "jw3ryedg8BiO"
      },
      "source": [
        "## LeNet implementation with Keras and MNIST dataset"
      ]
    },
    {
      "cell_type": "markdown",
      "metadata": {
        "id": "e_eCPQHm8m9c"
      },
      "source": [
        "---\n",
        "\n",
        "In this notebook, we train a Convolutional Neural Network to classify images from the MNIST database.\n",
        "\n",
        "In 1998, Lecun et al. introduced a pioneering CNN called LeNet-5. The LeNet-5 architecture is straightforward, and the components are not new to you.The architecture is composed of five weight layers, and hence the name LeNet-5: three convolutional layers and two fully connected layers.\n",
        "\n",
        "```\n",
        "INPUT IMAGE ⇒ C1 ⇒ TANH ⇒ S2 ⇒ C3 ⇒ TANH ⇒ S4 ⇒ C5 ⇒ TANH ⇒ FC6 ⇒ SOFTMAX7\n",
        "```"
      ]
    },
    {
      "cell_type": "markdown",
      "metadata": {
        "id": "YZgQITWE8y1l"
      },
      "source": [
        "##Setup"
      ]
    },
    {
      "cell_type": "code",
      "metadata": {
        "id": "rrZd8iQp8z73"
      },
      "source": [
        "import tensorflow as tf\n",
        "from tensorflow import keras\n",
        "import numpy as np\n",
        "import pandas as pd\n",
        "\n",
        "from tensorflow.keras.datasets import mnist\n",
        "\n",
        "from tensorflow.keras.models import Sequential\n",
        "from tensorflow.keras.layers import Conv2D, MaxPool2D, Flatten, Dense, Dropout, BatchNormalization, Activation, AveragePooling2D\n",
        "from tensorflow.keras.preprocessing.image import ImageDataGenerator\n",
        "from tensorflow.keras.utils import to_categorical\n",
        "from tensorflow.keras import regularizers, optimizers\n",
        "from tensorflow.keras.callbacks import ModelCheckpoint, LearningRateScheduler\n",
        "\n",
        "import warnings\n",
        "warnings.filterwarnings(\"ignore\")\n",
        "\n",
        "import matplotlib.pyplot as plt\n",
        "import matplotlib.cm as cm\n",
        "%matplotlib inline"
      ],
      "execution_count": 1,
      "outputs": []
    },
    {
      "cell_type": "markdown",
      "metadata": {
        "id": "fqo8L3iy8VPO"
      },
      "source": [
        "## 1. Load MNIST Database"
      ]
    },
    {
      "cell_type": "markdown",
      "metadata": {
        "id": "OTMTL-yd8iY1"
      },
      "source": [
        "MNIST is one of the most famous datasets in the field of machine learning. \n",
        " - It has 70,000 images of hand-written digits\n",
        " - Very straight forward to download\n",
        " - Images dimensions are 28x28\n",
        " - Grayscale images"
      ]
    },
    {
      "cell_type": "code",
      "metadata": {
        "id": "XtiSTVRT8BiU",
        "outputId": "c526094e-cc65-451e-d989-0e88ed4d6a25",
        "colab": {
          "base_uri": "https://localhost:8080/"
        }
      },
      "source": [
        "# use Keras to import pre-shuffled MNIST database\n",
        "(X_train, y_train), (X_test, y_test) = mnist.load_data()\n",
        "\n",
        "print(\"The MNIST database has a training set of %d examples.\" % len(X_train))\n",
        "print(\"The MNIST database has a test set of %d examples.\" % len(X_test))"
      ],
      "execution_count": 2,
      "outputs": [
        {
          "output_type": "stream",
          "text": [
            "Downloading data from https://storage.googleapis.com/tensorflow/tf-keras-datasets/mnist.npz\n",
            "11493376/11490434 [==============================] - 0s 0us/step\n",
            "The MNIST database has a training set of 60000 examples.\n",
            "The MNIST database has a test set of 10000 examples.\n"
          ],
          "name": "stdout"
        }
      ]
    },
    {
      "cell_type": "markdown",
      "metadata": {
        "id": "VJPFAljo8BiX"
      },
      "source": [
        "## 2. Visualize the First Six Training Images"
      ]
    },
    {
      "cell_type": "code",
      "metadata": {
        "id": "569zuXRK8BiX",
        "outputId": "a9023459-c804-44c3-da33-566933bb7600",
        "colab": {
          "base_uri": "https://localhost:8080/",
          "height": 187
        }
      },
      "source": [
        "# plot first six training images\n",
        "fig = plt.figure(figsize=(20,20))\n",
        "for i in range(6):\n",
        "    ax = fig.add_subplot(1, 6, i+1, xticks=[], yticks=[])\n",
        "    ax.imshow(X_train[i], cmap='gray')\n",
        "    ax.set_title(str(y_train[i]))"
      ],
      "execution_count": 3,
      "outputs": [
        {
          "output_type": "display_data",
          "data": {
            "image/png": "[encoded data removed]",
            "text/plain": [
              "<Figure size 1440x1440 with 6 Axes>"
            ]
          },
          "metadata": {
            "tags": []
          }
        }
      ]
    },
    {
      "cell_type": "markdown",
      "metadata": {
        "id": "ubreRFss8BiZ"
      },
      "source": [
        "## 3. View an Image in More Detail"
      ]
    },
    {
      "cell_type": "code",
      "metadata": {
        "id": "qSSsCd5_8Bia",
        "outputId": "7bf18cff-5006-4e3c-b640-0a559a60f410",
        "colab": {
          "base_uri": "https://localhost:8080/",
          "height": 700
        }
      },
      "source": [
        "def visualize_input(img, ax):\n",
        "    ax.imshow(img, cmap='gray')\n",
        "    width, height = img.shape\n",
        "    thresh = img.max()/2.5\n",
        "    for x in range(width):\n",
        "        for y in range(height):\n",
        "            ax.annotate(str(round(img[x][y],2)), xy=(y,x),\n",
        "                        horizontalalignment='center',\n",
        "                        verticalalignment='center',\n",
        "                        color='white' if img[x][y]<thresh else 'black')\n",
        "\n",
        "fig = plt.figure(figsize = (12,12)) \n",
        "ax = fig.add_subplot(111)\n",
        "visualize_input(X_train[0], ax)"
      ],
      "execution_count": 4,
      "outputs": [
        {
          "output_type": "display_data",
          "data": {
            "image/png": "[encoded data removed]",
            "text/plain": [
              "<Figure size 864x864 with 1 Axes>"
            ]
          },
          "metadata": {
            "tags": [],
            "needs_background": "light"
          }
        }
      ]
    },
    {
      "cell_type": "markdown",
      "metadata": {
        "id": "BZdwmQrF8Bib"
      },
      "source": [
        "## 4. Preprocess input images: Rescale the Images by Dividing Every Pixel in Every Image by 255"
      ]
    },
    {
      "cell_type": "code",
      "metadata": {
        "id": "c-AfG7ve8Bid",
        "outputId": "e68bf853-9232-418e-ed57-60ac5e21dc9d",
        "colab": {
          "base_uri": "https://localhost:8080/"
        }
      },
      "source": [
        "# normalize the data to accelerate learning\n",
        "mean = np.mean(X_train)\n",
        "std = np.std(X_train)\n",
        "X_train = (X_train-mean)/(std+1e-7)\n",
        "X_test = (X_test-mean)/(std+1e-7)\n",
        "\n",
        "print('X_train shape:', X_train.shape)\n",
        "print(X_train.shape[0], 'train samples')\n",
        "print(X_test.shape[0], 'test samples')"
      ],
      "execution_count": 5,
      "outputs": [
        {
          "output_type": "stream",
          "text": [
            "X_train shape: (60000, 28, 28)\n",
            "60000 train samples\n",
            "10000 test samples\n"
          ],
          "name": "stdout"
        }
      ]
    },
    {
      "cell_type": "markdown",
      "metadata": {
        "id": "uOR0E7Dm8Bif"
      },
      "source": [
        "## 5. Preprocess the labels: Encode Categorical Integer Labels Using a One-Hot Scheme"
      ]
    },
    {
      "cell_type": "code",
      "metadata": {
        "scrolled": false,
        "id": "AjIjBVct8Big",
        "outputId": "c2196ba1-933c-41ef-d20e-d4ef84bb23aa",
        "colab": {
          "base_uri": "https://localhost:8080/"
        }
      },
      "source": [
        "num_classes = 10 \n",
        "# print first ten (integer-valued) training labels\n",
        "print('Integer-valued labels:')\n",
        "print(y_train[:10])\n",
        "\n",
        "# one-hot encode the labels\n",
        "# convert class vectors to binary class matrices\n",
        "y_train = to_categorical(y_train, num_classes)\n",
        "y_test = to_categorical(y_test, num_classes)\n",
        "\n",
        "# print first ten (one-hot) training labels\n",
        "print('One-hot labels:')\n",
        "print(y_train[:10])"
      ],
      "execution_count": 6,
      "outputs": [
        {
          "output_type": "stream",
          "text": [
            "Integer-valued labels:\n",
            "[5 0 4 1 9 2 1 3 1 4]\n",
            "One-hot labels:\n",
            "[[0. 0. 0. 0. 0. 1. 0. 0. 0. 0.]\n",
            " [1. 0. 0. 0. 0. 0. 0. 0. 0. 0.]\n",
            " [0. 0. 0. 0. 1. 0. 0. 0. 0. 0.]\n",
            " [0. 1. 0. 0. 0. 0. 0. 0. 0. 0.]\n",
            " [0. 0. 0. 0. 0. 0. 0. 0. 0. 1.]\n",
            " [0. 0. 1. 0. 0. 0. 0. 0. 0. 0.]\n",
            " [0. 1. 0. 0. 0. 0. 0. 0. 0. 0.]\n",
            " [0. 0. 0. 1. 0. 0. 0. 0. 0. 0.]\n",
            " [0. 1. 0. 0. 0. 0. 0. 0. 0. 0.]\n",
            " [0. 0. 0. 0. 1. 0. 0. 0. 0. 0.]]\n"
          ],
          "name": "stdout"
        }
      ]
    },
    {
      "cell_type": "markdown",
      "metadata": {
        "id": "5gc5Lmzq8Bih"
      },
      "source": [
        "## 6. Reshape data to fit our CNN (and input_shape)"
      ]
    },
    {
      "cell_type": "code",
      "metadata": {
        "id": "3pK9Sf8j8Bii",
        "outputId": "c111c5d4-a0a3-4c6e-bc39-c7a337191f41",
        "colab": {
          "base_uri": "https://localhost:8080/"
        }
      },
      "source": [
        "# input image dimensions 28x28 pixel images. \n",
        "img_rows, img_cols = 28, 28\n",
        "\n",
        "X_train = X_train.reshape(X_train.shape[0], img_rows, img_cols, 1)\n",
        "X_test = X_test.reshape(X_test.shape[0], img_rows, img_cols, 1)\n",
        "input_shape = (img_rows, img_cols, 1)\n",
        "\n",
        "print('image input shape: ', input_shape)\n",
        "print('x_train shape:', X_train.shape)"
      ],
      "execution_count": 7,
      "outputs": [
        {
          "output_type": "stream",
          "text": [
            "image input shape:  (28, 28, 1)\n",
            "x_train shape: (60000, 28, 28, 1)\n"
          ],
          "name": "stdout"
        }
      ]
    },
    {
      "cell_type": "markdown",
      "metadata": {
        "id": "bASnq5E_8Bii"
      },
      "source": [
        "## 7. Define the Model Architecture\n",
        "\n",
        "![caption](https://github.com/moelgendy/deep_learning_for_vision_systems/blob/master/chapter_05/images/lenet_architecture.png?raw=1)\n",
        "\n",
        "To implement LeNet-5 in Keras, read the [original paper](http://yann.lecun.com/exdb/publis/pdf/lecun-01a.pdf) and extract the architecture information from pages 6, 7 and 8. Here are the main takeaways to build the LeNet-5 network:\n",
        "\n",
        "- Number of filters in each CONV layer: you can see from the diagram (and defined in the paper) that the depth (number of filters) of each convolutional layer is as follows: C1 = 6, C3 = 16, C5 = 120 layers.\n",
        "- Kernel size of each CONV layer: from the paper, the kernel_size is = 5 x 5\n",
        "- A subsampling layer (POOL) is added after each convolutional layer. The receptive field of each unit is a 2 x 2 area (i.e. pool_size = 2). Note that the LeNet-5 creators used average pooling which computes the average value of its inputs instead of the max pooling layer that we used in our earlier projects which passes the maximum value of its inputs. You can try both if you are interested to see the difference. For this experiment, we are going to follow the paper architecture.\n",
        "- Activation function: the creators of LeNet-5 used tanh activation function for the hidden layers because symmetric functions are believed to yield faster convergence compared to sigmoid functions. In general, you are strongly encouraged to add a ReLU activation function to every convolutional layer in your networks.\n",
        "\n",
        "\n",
        "**Things to remember** \n",
        "- Always add a ReLU activation function to the **Conv2D** layers in your CNN. With the exception of the final layer in the network, Dense layers should also have a ReLU activation function.\n",
        "- When constructing a network for classification, the final layer in the network should be a **Dense** (FC) layer with a softmax activation function. The number of nodes in the final layer should equal the total number of classes in the dataset."
      ]
    },
    {
      "cell_type": "code",
      "metadata": {
        "scrolled": false,
        "id": "V3C0u-A58Bil",
        "outputId": "0aff51fa-b335-4b5c-df9e-31da558fcaf1",
        "colab": {
          "base_uri": "https://localhost:8080/"
        }
      },
      "source": [
        "#Instantiate an empty model\n",
        "model = Sequential()\n",
        "\n",
        "# C1 Convolutional Layer\n",
        "model.add(Conv2D(6, kernel_size=(5, 5), strides=(1, 1), activation='tanh', input_shape=input_shape, padding='same'))\n",
        "\n",
        "# S2 Pooling Layer\n",
        "model.add(AveragePooling2D(pool_size=(2, 2), strides=2, padding='valid'))\n",
        "\n",
        "# C3 Convolutional Layer\n",
        "model.add(Conv2D(16, kernel_size=(5, 5), strides=(1, 1), activation='tanh', padding='valid'))\n",
        "\n",
        "# S4 Pooling Layer\n",
        "model.add(AveragePooling2D(pool_size=(2, 2), strides=2, padding='valid'))\n",
        "\n",
        "# C5 Fully Connected Convolutional Layer\n",
        "model.add(Conv2D(120, kernel_size=(5, 5), strides=(1, 1), activation='tanh', padding='valid'))\n",
        "\n",
        "#Flatten the CNN output so that we can connect it with fully connected layers\n",
        "model.add(Flatten())\n",
        "\n",
        "# FC6 Fully Connected Layer\n",
        "model.add(Dense(84, activation='tanh'))\n",
        "\n",
        "# Output Layer with softmax activation\n",
        "model.add(Dense(10, activation='softmax'))\n",
        "\n",
        "# print the model summary\n",
        "model.summary()"
      ],
      "execution_count": 8,
      "outputs": [
        {
          "output_type": "stream",
          "text": [
            "Model: \"sequential\"\n",
            "_________________________________________________________________\n",
            "Layer (type)                 Output Shape              Param #   \n",
            "=================================================================\n",
            "conv2d (Conv2D)              (None, 28, 28, 6)         156       \n",
            "_________________________________________________________________\n",
            "average_pooling2d (AveragePo (None, 14, 14, 6)         0         \n",
            "_________________________________________________________________\n",
            "conv2d_1 (Conv2D)            (None, 10, 10, 16)        2416      \n",
            "_________________________________________________________________\n",
            "average_pooling2d_1 (Average (None, 5, 5, 16)          0         \n",
            "_________________________________________________________________\n",
            "conv2d_2 (Conv2D)            (None, 1, 1, 120)         48120     \n",
            "_________________________________________________________________\n",
            "flatten (Flatten)            (None, 120)               0         \n",
            "_________________________________________________________________\n",
            "dense (Dense)                (None, 84)                10164     \n",
            "_________________________________________________________________\n",
            "dense_1 (Dense)              (None, 10)                850       \n",
            "=================================================================\n",
            "Total params: 61,706\n",
            "Trainable params: 61,706\n",
            "Non-trainable params: 0\n",
            "_________________________________________________________________\n"
          ],
          "name": "stdout"
        }
      ]
    },
    {
      "cell_type": "markdown",
      "metadata": {
        "id": "C5_atIlI8Bim"
      },
      "source": [
        "## 8. Compile the Model\n",
        "\n",
        "In this exercise, we will use Adam optimizer"
      ]
    },
    {
      "cell_type": "code",
      "metadata": {
        "id": "ATnod11-8Bin"
      },
      "source": [
        "# the loss function is categorical cross entropy since we have multiple classes (10) \n",
        "\n",
        "# compile the model by defining the loss function, optimizer, and performance metric\n",
        "model.compile(loss='categorical_crossentropy', optimizer='adam', metrics=['accuracy'])"
      ],
      "execution_count": 9,
      "outputs": []
    },
    {
      "cell_type": "markdown",
      "metadata": {
        "id": "X54-I4LE8Bin"
      },
      "source": [
        "## 9. Train the Model\n",
        "\n",
        "LeCun and his team used scheduled decay learning where the value of the learning rate was decreased using the following schedule: 0.0005 for the first two epochs, 0.0002 for the next three epochs, 0.00005 for the next four, and then 0.00001 thereafter. In the paper, the authors trained their network for 20 epochs."
      ]
    },
    {
      "cell_type": "code",
      "metadata": {
        "scrolled": true,
        "id": "AgRHEGlz8Bio",
        "outputId": "9e7bb7df-1007-4830-9930-cfc775555dbb",
        "colab": {
          "base_uri": "https://localhost:8080/"
        }
      },
      "source": [
        "# set the learning rate schedule as created in the original paper\n",
        "def lr_schedule(epoch):\n",
        "    if epoch <= 2:     \n",
        "        lr = 5e-4\n",
        "    elif epoch > 2 and epoch <= 5:\n",
        "        lr = 2e-4\n",
        "    elif epoch > 5 and epoch <= 9:\n",
        "        lr = 5e-5\n",
        "    else: \n",
        "        lr = 1e-5\n",
        "    return lr\n",
        "\n",
        "lr_scheduler = LearningRateScheduler(lr_schedule)\n",
        "\n",
        "# set the checkpointer\n",
        "checkpointer = ModelCheckpoint(filepath='model.weights.best.hdf5', verbose=1, save_best_only=True)\n",
        "\n",
        "# train the model\n",
        "hist = model.fit(X_train, y_train, batch_size=32, epochs=20,\n",
        "          validation_data=(X_test, y_test), callbacks=[checkpointer, lr_scheduler], \n",
        "          verbose=2, shuffle=True)"
      ],
      "execution_count": 10,
      "outputs": [
        {
          "output_type": "stream",
          "text": [
            "Epoch 1/20\n",
            "1875/1875 - 34s - loss: 0.2353 - accuracy: 0.9312 - val_loss: 0.0890 - val_accuracy: 0.9722\n",
            "\n",
            "Epoch 00001: val_loss improved from inf to 0.08901, saving model to model.weights.best.hdf5\n",
            "Epoch 2/20\n",
            "1875/1875 - 33s - loss: 0.0791 - accuracy: 0.9761 - val_loss: 0.0575 - val_accuracy: 0.9804\n",
            "\n",
            "Epoch 00002: val_loss improved from 0.08901 to 0.05748, saving model to model.weights.best.hdf5\n",
            "Epoch 3/20\n",
            "1875/1875 - 33s - loss: 0.0559 - accuracy: 0.9827 - val_loss: 0.0521 - val_accuracy: 0.9824\n",
            "\n",
            "Epoch 00003: val_loss improved from 0.05748 to 0.05214, saving model to model.weights.best.hdf5\n",
            "Epoch 4/20\n",
            "1875/1875 - 35s - loss: 0.0354 - accuracy: 0.9896 - val_loss: 0.0405 - val_accuracy: 0.9860\n",
            "\n",
            "Epoch 00004: val_loss improved from 0.05214 to 0.04054, saving model to model.weights.best.hdf5\n",
            "Epoch 5/20\n",
            "1875/1875 - 34s - loss: 0.0306 - accuracy: 0.9909 - val_loss: 0.0359 - val_accuracy: 0.9876\n",
            "\n",
            "Epoch 00005: val_loss improved from 0.04054 to 0.03585, saving model to model.weights.best.hdf5\n",
            "Epoch 6/20\n",
            "1875/1875 - 34s - loss: 0.0274 - accuracy: 0.9919 - val_loss: 0.0372 - val_accuracy: 0.9869\n",
            "\n",
            "Epoch 00006: val_loss did not improve from 0.03585\n",
            "Epoch 7/20\n",
            "1875/1875 - 34s - loss: 0.0199 - accuracy: 0.9945 - val_loss: 0.0308 - val_accuracy: 0.9891\n",
            "\n",
            "Epoch 00007: val_loss improved from 0.03585 to 0.03076, saving model to model.weights.best.hdf5\n",
            "Epoch 8/20\n",
            "1875/1875 - 34s - loss: 0.0186 - accuracy: 0.9951 - val_loss: 0.0301 - val_accuracy: 0.9892\n",
            "\n",
            "Epoch 00008: val_loss improved from 0.03076 to 0.03006, saving model to model.weights.best.hdf5\n",
            "Epoch 9/20\n",
            "1875/1875 - 34s - loss: 0.0175 - accuracy: 0.9956 - val_loss: 0.0291 - val_accuracy: 0.9898\n",
            "\n",
            "Epoch 00009: val_loss improved from 0.03006 to 0.02912, saving model to model.weights.best.hdf5\n",
            "Epoch 10/20\n",
            "1875/1875 - 34s - loss: 0.0167 - accuracy: 0.9957 - val_loss: 0.0287 - val_accuracy: 0.9892\n",
            "\n",
            "Epoch 00010: val_loss improved from 0.02912 to 0.02874, saving model to model.weights.best.hdf5\n",
            "Epoch 11/20\n",
            "1875/1875 - 34s - loss: 0.0149 - accuracy: 0.9966 - val_loss: 0.0287 - val_accuracy: 0.9897\n",
            "\n",
            "Epoch 00011: val_loss improved from 0.02874 to 0.02870, saving model to model.weights.best.hdf5\n",
            "Epoch 12/20\n",
            "1875/1875 - 34s - loss: 0.0146 - accuracy: 0.9968 - val_loss: 0.0287 - val_accuracy: 0.9900\n",
            "\n",
            "Epoch 00012: val_loss improved from 0.02870 to 0.02868, saving model to model.weights.best.hdf5\n",
            "Epoch 13/20\n",
            "1875/1875 - 34s - loss: 0.0144 - accuracy: 0.9968 - val_loss: 0.0283 - val_accuracy: 0.9900\n",
            "\n",
            "Epoch 00013: val_loss improved from 0.02868 to 0.02835, saving model to model.weights.best.hdf5\n",
            "Epoch 14/20\n",
            "1875/1875 - 34s - loss: 0.0143 - accuracy: 0.9969 - val_loss: 0.0285 - val_accuracy: 0.9897\n",
            "\n",
            "Epoch 00014: val_loss did not improve from 0.02835\n",
            "Epoch 15/20\n",
            "1875/1875 - 34s - loss: 0.0141 - accuracy: 0.9968 - val_loss: 0.0286 - val_accuracy: 0.9898\n",
            "\n",
            "Epoch 00015: val_loss did not improve from 0.02835\n",
            "Epoch 16/20\n",
            "1875/1875 - 34s - loss: 0.0140 - accuracy: 0.9969 - val_loss: 0.0286 - val_accuracy: 0.9898\n",
            "\n",
            "Epoch 00016: val_loss did not improve from 0.02835\n",
            "Epoch 17/20\n",
            "1875/1875 - 34s - loss: 0.0138 - accuracy: 0.9969 - val_loss: 0.0286 - val_accuracy: 0.9897\n",
            "\n",
            "Epoch 00017: val_loss did not improve from 0.02835\n",
            "Epoch 18/20\n",
            "1875/1875 - 34s - loss: 0.0136 - accuracy: 0.9971 - val_loss: 0.0287 - val_accuracy: 0.9897\n",
            "\n",
            "Epoch 00018: val_loss did not improve from 0.02835\n",
            "Epoch 19/20\n",
            "1875/1875 - 34s - loss: 0.0135 - accuracy: 0.9970 - val_loss: 0.0285 - val_accuracy: 0.9896\n",
            "\n",
            "Epoch 00019: val_loss did not improve from 0.02835\n",
            "Epoch 20/20\n",
            "1875/1875 - 34s - loss: 0.0134 - accuracy: 0.9971 - val_loss: 0.0284 - val_accuracy: 0.9896\n",
            "\n",
            "Epoch 00020: val_loss did not improve from 0.02835\n"
          ],
          "name": "stdout"
        }
      ]
    },
    {
      "cell_type": "markdown",
      "metadata": {
        "id": "1b8st5H-8Bio"
      },
      "source": [
        "## 10. Load the Model with the Best Classification Accuracy on the Validation Set"
      ]
    },
    {
      "cell_type": "code",
      "metadata": {
        "id": "YSENz9vN8Bip"
      },
      "source": [
        "# load the weights that yielded the best validation accuracy\n",
        "model.load_weights('model.weights.best.hdf5')"
      ],
      "execution_count": 11,
      "outputs": []
    },
    {
      "cell_type": "markdown",
      "metadata": {
        "id": "mERLbYbA8Bip"
      },
      "source": [
        "## 11. Calculate the Classification Accuracy on the Test Set"
      ]
    },
    {
      "cell_type": "code",
      "metadata": {
        "id": "icDGLOnP8Biq",
        "outputId": "cdbe7669-0db3-48fe-bd35-c50f4421a6f2",
        "colab": {
          "base_uri": "https://localhost:8080/"
        }
      },
      "source": [
        "# evaluate test accuracy\n",
        "score = model.evaluate(X_test, y_test, verbose=0)\n",
        "accuracy = 100*score[1]\n",
        "\n",
        "# print test accuracy\n",
        "print('Test accuracy: %.4f%%' % accuracy)"
      ],
      "execution_count": 12,
      "outputs": [
        {
          "output_type": "stream",
          "text": [
            "Test accuracy: 99.0000%\n"
          ],
          "name": "stdout"
        }
      ]
    },
    {
      "cell_type": "markdown",
      "metadata": {
        "id": "MqkGZXzz8Biq"
      },
      "source": [
        "## 12. evaluate the model"
      ]
    },
    {
      "cell_type": "code",
      "metadata": {
        "id": "04kZVPg88Bir",
        "outputId": "81837020-46b1-471a-f873-e71eb6a832dd",
        "colab": {
          "base_uri": "https://localhost:8080/",
          "height": 295
        }
      },
      "source": [
        "f, ax = plt.subplots()\n",
        "ax.plot([None] + hist.history['accuracy'], 'o-')\n",
        "ax.plot([None] + hist.history['val_accuracy'], 'x-')\n",
        "# Plot legend and use the best location automatically: loc = 0.\n",
        "ax.legend(['Train acc', 'Validation acc'], loc = 0)\n",
        "ax.set_title('Training/Validation acc per Epoch')\n",
        "ax.set_xlabel('Epoch')\n",
        "ax.set_ylabel('acc')\n",
        "plt.show()"
      ],
      "execution_count": 13,
      "outputs": [
        {
          "output_type": "display_data",
          "data": {
            "image/png": "[encoded data removed]",
            "text/plain": [
              "<Figure size 432x288 with 1 Axes>"
            ]
          },
          "metadata": {
            "tags": [],
            "needs_background": "light"
          }
        }
      ]
    },
    {
      "cell_type": "code",
      "metadata": {
        "id": "eEMNDpxa8Bir",
        "outputId": "60532b70-d634-4451-b615-dea79400bf46",
        "colab": {
          "base_uri": "https://localhost:8080/",
          "height": 295
        }
      },
      "source": [
        "f, ax = plt.subplots()\n",
        "ax.plot([None] + hist.history['loss'], 'o-')\n",
        "ax.plot([None] + hist.history['val_loss'], 'x-')\n",
        "\n",
        "# Plot legend and use the best location automatically: loc = 0.\n",
        "ax.legend(['Train loss', \"Val loss\"], loc = 0)\n",
        "ax.set_title('Training/Validation Loss per Epoch')\n",
        "ax.set_xlabel('Epoch')\n",
        "ax.set_ylabel('Loss')\n",
        "plt.show()"
      ],
      "execution_count": 14,
      "outputs": [
        {
          "output_type": "display_data",
          "data": {
            "image/png": "[encoded data removed]",
            "text/plain": [
              "<Figure size 432x288 with 1 Axes>"
            ]
          },
          "metadata": {
            "tags": [],
            "needs_background": "light"
          }
        }
      ]
    }
  ]
}