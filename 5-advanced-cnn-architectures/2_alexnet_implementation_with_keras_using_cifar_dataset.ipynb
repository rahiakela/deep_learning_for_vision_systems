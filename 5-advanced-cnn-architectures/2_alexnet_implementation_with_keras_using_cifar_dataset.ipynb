{
  "nbformat": 4,
  "nbformat_minor": 0,
  "metadata": {
    "colab": {
      "name": "2_alexnet_implementation_with_keras_using_cifar_dataset.ipynb",
      "provenance": [],
      "toc_visible": true,
      "machine_shape": "hm",
      "include_colab_link": true
    },
    "kernelspec": {
      "name": "python3",
      "display_name": "Python 3"
    },
    "accelerator": "GPU"
  },
  "cells": [
    {
      "cell_type": "markdown",
      "metadata": {
        "id": "view-in-github",
        "colab_type": "text"
      },
      "source": [
        "<a href=\"https://colab.research.google.com/github/rahiakela/deep_learning_for_vision_systems/blob/5-advanced-cnn-architectures/2_alexnet_implementation_with_keras_using_cifar_dataset.ipynb\" target=\"_parent\"><img src=\"https://colab.research.google.com/assets/colab-badge.svg\" alt=\"Open In Colab\"/></a>"
      ]
    },
    {
      "cell_type": "markdown",
      "metadata": {
        "id": "T14u8H9q96aB",
        "colab_type": "text"
      },
      "source": [
        "# AlexNet implementation with Keras using CIFAR-10 dataset"
      ]
    },
    {
      "cell_type": "markdown",
      "metadata": {
        "id": "tCaitvjLAeoL",
        "colab_type": "text"
      },
      "source": [
        "The main motivation behind AlexNet was to build a deeper network that can learn more complex functions.\n",
        "\n",
        "AlexNet was the winner of the ILSVRC image classification competition in 2012. Alex Krizhevsky, Geoffrey Hinton and Ilya Sutskever created a neural network architecture called ‘AlexNet’ in their paper “[ImageNet Classification with Deep Convolutional Neural Networks](https://papers.nips.cc/paper/4824-imagenet-classification-with-deep-convolutional-neural-networks.pdf)”.\n",
        "\n",
        "They trained their network on 1.2 million high-resolution images into 1,000 different classes of the ImageNet dataset. AlexNet was state-of-the-art at its time because it was the first real “deep” network (back then) that opened the door for the computer vision community to seriously consider convolutional networks in their applications.\n",
        "\n",
        "**AlexNet architecture**\n",
        "\n",
        "<img src='https://github.com/rahiakela/img-repo/blob/master/deep_learning_for_vision_systems/alexnet-architecture.png?raw=1' width='800'/>\n",
        "\n",
        "AlexNet has a lot of similarities to LeNet but it is much deeper (more hidden layers) and bigger (more filters per layer). They both have similar\n",
        "building blocks of a series of CONV + POOL layers stacked on top of each other followed by FC layers and a Softmax. \n",
        "\n",
        "We’ve seen that LeNet has around 61 thousand parameters whereas AlexNet has about 60 million parameters and 650,000 neurons which gives it a larger learning capacity to understand more complex features. This allowed AlexNet to have a remarkable\n",
        "performance in the ILSVRC image classification competition in 2012.\n",
        "\n",
        "The architecture is pretty straightforward. It consists of:\n",
        "* Convolutional layers with the following kernel sizes: 11x11, 5x5, and 3x3\n",
        "* Max pooling layers for images downsampling\n",
        "* Dropout layers to avoid overfitting\n",
        "* Unlike LeNet, AlexNet authors used ReLU activation functions in the hidden layers and a softmax activation in the output layer\n",
        "\n",
        "AlexNet is consists of five convolutional layers, some of which are followed by max-pooling layers, and three fully-connected layers with a final 1000-way softmax. \n",
        "\n",
        "You can represent the AlexNet architecture in text as follows:\n",
        "**INPUT IMAGE => CONV1 => POOL2 => CONV3 => POOL4 => CONV5 => CONV6 => CONV7 => POOL8 => FC9=> FC10 => SOFTMAX7**\n",
        "\n",
        "\n",
        "\n"
      ]
    },
    {
      "cell_type": "markdown",
      "metadata": {
        "id": "0HU682D2CIcW",
        "colab_type": "text"
      },
      "source": [
        "## Setup"
      ]
    },
    {
      "cell_type": "code",
      "metadata": {
        "id": "9DMTbn2wCMxL",
        "colab_type": "code",
        "colab": {}
      },
      "source": [
        "from __future__ import absolute_import, division, print_function, unicode_literals\n",
        "\n",
        "try:\n",
        "  # %tensorflow_version only exists in Colab.\n",
        "  %tensorflow_version 2.x\n",
        "except Exception:\n",
        "  pass\n",
        "\n",
        "import tensorflow as tf\n",
        "from tensorflow import keras\n",
        "\n",
        "from tensorflow.keras.models import Sequential\n",
        "from tensorflow.keras.layers import Conv2D, AveragePooling2D, Flatten, Dense, Activation, MaxPool2D, BatchNormalization, Dropout\n",
        "from tensorflow.keras.regularizers import l2\n",
        "from tensorflow.keras.utils import to_categorical\n",
        "\n",
        "from keras.datasets import cifar10\n",
        "\n",
        "import numpy as np\n",
        "import pandas as pd\n",
        "import cv2 \n",
        "\n",
        "import matplotlib.pyplot as plt\n",
        "%matplotlib inline\n",
        "import matplotlib.cm as cm"
      ],
      "execution_count": 0,
      "outputs": []
    },
    {
      "cell_type": "markdown",
      "metadata": {
        "id": "6M3tN5U2ho2g",
        "colab_type": "text"
      },
      "source": [
        "## Novel features of AlexNet"
      ]
    },
    {
      "cell_type": "markdown",
      "metadata": {
        "id": "HWQI2b4lhp93",
        "colab_type": "text"
      },
      "source": [
        "Before AlexNet, deep learning was starting to gain traction in speech recognition and a few other areas. But AlexNet was the milestone that convinced a lot of the computer vision community to take a serious look at deep learning and demonstrate that deep learning really works in computer vision."
      ]
    },
    {
      "cell_type": "markdown",
      "metadata": {
        "id": "rqQjhhRCh2ew",
        "colab_type": "text"
      },
      "source": [
        "### ReLU activation function"
      ]
    },
    {
      "cell_type": "markdown",
      "metadata": {
        "id": "5Ur8G-Zoh3b2",
        "colab_type": "text"
      },
      "source": [
        "AlexNet, proposed by Alex Krizhevsky, uses ReLu(Rectified Linear Unit) for the non-linear part, instead of a Tanh or Sigmoid functions that were the earlier standard for traditional neural networks (like LeNet), ReLu was used in the hidden layers of AlexNet architecture because it trains much faster. \n",
        "\n",
        "This is because the derivative of the sigmoid function becomes very small\n",
        "in the saturating region and therefore the updates applied to the weights almost vanish. This phenomenon is called the vanishing gradient problem."
      ]
    },
    {
      "cell_type": "markdown",
      "metadata": {
        "id": "0yKKztYvk0hW",
        "colab_type": "text"
      },
      "source": [
        "#### Vanishing gradient problem"
      ]
    },
    {
      "cell_type": "markdown",
      "metadata": {
        "id": "Y-OGzxvHk3JD",
        "colab_type": "text"
      },
      "source": [
        "Certain activation functions, like the sigmoid function, squishes a large input space into a small input space between 0 and 1 (-1 to 1 range for Tanh activations). Therefore, a large change in the input of the sigmoid function will cause a small change in the output. Which makes the derivative become very small.\n",
        "\n",
        "<img src='https://github.com/rahiakela/img-repo/blob/master/deep_learning_for_vision_systems/vanishing-gradient.png?raw=1' width='800'/>"
      ]
    },
    {
      "cell_type": "markdown",
      "metadata": {
        "id": "yRbNYpMymlfc",
        "colab_type": "text"
      },
      "source": [
        "### Local response normalization"
      ]
    },
    {
      "cell_type": "markdown",
      "metadata": {
        "id": "zjwBFhLammjP",
        "colab_type": "text"
      },
      "source": [
        "In AlexNet, local response normalization is used. It is different from the batch normalization technique Normalization helps to speed up the convergence. Nowadays, batch normalization (BN) is used instead of using local response normalization."
      ]
    },
    {
      "cell_type": "markdown",
      "metadata": {
        "id": "O3qVE5_onBGO",
        "colab_type": "text"
      },
      "source": [
        "### Weight regularization"
      ]
    },
    {
      "cell_type": "markdown",
      "metadata": {
        "id": "meLEXaghnCOQ",
        "colab_type": "text"
      },
      "source": [
        "Weight decay is another term for the L2 regularization technique. It is an approach to reduce the overfitting of a deep learning neural network models on the training data to allow it to generalize better on new data.\n",
        "\n",
        "```python\n",
        "model.add(Conv2D(32, (3,3), kernel_regularizer=l2(λ)))\n",
        "```\n",
        "\n",
        "The lambda value is the weight decay hyperparameter that you can tune. If you still see overfitting size, increase the lambda value to reduce overfitting. \n",
        "\n",
        "In this case, the authors found that a small decay value of 0.0005 was good enough for the model to learn."
      ]
    },
    {
      "cell_type": "markdown",
      "metadata": {
        "id": "G6UfTHaOCNFF",
        "colab_type": "text"
      },
      "source": [
        "## AlexNet implementation in Keras"
      ]
    },
    {
      "cell_type": "markdown",
      "metadata": {
        "id": "21ZkvNrFCODF",
        "colab_type": "text"
      },
      "source": [
        "AlexNet neural network contains eight weight layers: the first five are\n",
        "convolutional and the remaining three are fully-connected. The output of the last fullyconnected layer is fed to a 1000-way softmax which produces a distribution over the 1000 class labels. \n",
        "\n",
        "<img src='//github.com/moelgendy/deep_learning_for_vision_systems/raw/fa42fcb4ed8f8eb57460eadad3a8cb9b7d167a05/chapter_05/images/alexnet_architecture.png?raw=1' width='800'/>\n",
        "\n",
        "AlexNet input starts with 227x227x3 images. If you read the paper, you will notice that it refers to the dimensions volume of 224x224x3 for the input images. But the numbers make sense only for 227x227x3 images. I suggest that this could be a typing mistake in the paper.\n",
        "\n",
        "The layers are stacked together as follows:\n",
        "\n",
        "* **CONV1**: the authors used a large kernel size = 11. They also used a large stride = 4 which makes the input dimensions roughly shrink by a factor 4 (from 227x227 to 55x55).\n",
        "\n",
        "Calculate the dimensions of the output as follows:\n",
        "\n",
        "(227 - 11)/4+ 1 = 55 and the depth is the number of filters in the conv layer = 96\n",
        "\n",
        "The output dimension = 55x55x96\n",
        "\n",
        "* **POOL layer**: POOL layer with a filter size of 3x3 which reduces the dimensions from 55x55 to 27x27.\n",
        "\n",
        "Calculate the dimensions of the output as follows:\n",
        "\n",
        "(55 - 3)/2+ 1 = 27. The pooling layer doesn’t change the depth of the volume.\n",
        "The output dimension = 27x27x96\n",
        "\n",
        "Similarly, you can calculate the output dimensions of the remaining layers.\n",
        "\n",
        "* **CONV2**: kernel size = 5, depth = 256, and stride = 1\n",
        "\n",
        "* **POOL layer**: with size = 3x3 which downsamples its input dimensions from 27x27 to 13x13.\n",
        "\n",
        "* **CONV3**: kernel size = 3, depth = 384, and stride = 1\n",
        "* **CONV4**: kernel size = 3, depth = 384, and stride = 1\n",
        "* **CONV5**: kernel size = 3, depth = 256, and stride = 1\n",
        "* **POOL layer**: with size = 3x3 which downsamples its input from 13x13 to 6x6\n",
        "* **Flatten layer**: Flatten layer to flatten the dimension volume 6x6x256 to 1x9216\n",
        "* **FC layer** with 4096 neurons\n",
        "* **FC layer** with 4096 neurons\n",
        "* **Softmax layer** with 1000 neurons\n",
        "\n",
        "Note that all CONV layers are followed by a batch normalization layer and all hidden layers are followed by ReLU activations. \n",
        "\n",
        "Now, let’s put that in code to build the AlexNet architecture."
      ]
    },
    {
      "cell_type": "markdown",
      "metadata": {
        "id": "jTwVd_KCDTyF",
        "colab_type": "text"
      },
      "source": [
        "## Load and prepare CIFAR-10 Database"
      ]
    },
    {
      "cell_type": "code",
      "metadata": {
        "id": "J0j7jloEAH34",
        "colab_type": "code",
        "colab": {
          "base_uri": "https://localhost:8080/",
          "height": 210
        },
        "outputId": "4ab63cd1-c8cb-477d-e599-df523c260407"
      },
      "source": [
        "# load data\n",
        "(X_train, y_train), (X_test, y_test) = cifar10.load_data()\n",
        "\n",
        "# plot first six training images\n",
        "fig = plt.figure(figsize=(20, 20))\n",
        "for i in range(6):\n",
        "  ax = fig.add_subplot(1, 6, i + 1, xticks=[], yticks=[])\n",
        "  ax.imshow(X_train[i], cmap='gray')\n",
        "  ax.set_title(str(y_train[i]))"
      ],
      "execution_count": 6,
      "outputs": [
        {
          "output_type": "display_data",
          "data": {
            "image/png": "[encoded data removed]",
            "text/plain": [
              "<Figure size 1440x1440 with 6 Axes>"
            ]
          },
          "metadata": {
            "tags": []
          }
        }
      ]
    },
    {
      "cell_type": "code",
      "metadata": {
        "id": "3RJeEhLmRsv7",
        "colab_type": "code",
        "colab": {}
      },
      "source": [
        "num_classes = 10\n",
        "\n",
        "def load_cifar10_data(img_rows, img_cols):\n",
        "  # Load cifar10 training and validation sets\n",
        "  (X_train, Y_train), (X_valid, Y_valid) = cifar10.load_data()\n",
        "\n",
        "  # Resize training images\n",
        "  X_train = np.array([cv2.resize(img, (img_rows,img_cols)) for img in X_train[:,:,:,:]])\n",
        "  X_valid = np.array([cv2.resize(img, (img_rows,img_cols)) for img in X_valid[:,:,:,:]])\n",
        "\n",
        "  # Transform targets to keras compatible format\n",
        "  Y_train = to_categorical(Y_train, num_classes)\n",
        "  Y_valid = to_categorical(Y_valid, num_classes)\n",
        "  \n",
        "  X_train = X_train.astype('float32')\n",
        "  X_valid = X_valid.astype('float32')\n",
        "\n",
        "  # preprocess data\n",
        "  X_train = X_train / 255.0\n",
        "  X_valid = X_valid / 255.0\n",
        "\n",
        "  return X_train, Y_train, X_valid, Y_valid"
      ],
      "execution_count": 0,
      "outputs": []
    },
    {
      "cell_type": "code",
      "metadata": {
        "id": "abyrgF3h0h7L",
        "colab_type": "code",
        "colab": {}
      },
      "source": [
        "X_train, y_train, X_test, y_test = load_cifar10_data(224, 224)"
      ],
      "execution_count": 0,
      "outputs": []
    },
    {
      "cell_type": "markdown",
      "metadata": {
        "id": "Fcw5NS7LShKA",
        "colab_type": "text"
      },
      "source": [
        "### Visualize the First Six Training Images"
      ]
    },
    {
      "cell_type": "code",
      "metadata": {
        "id": "ZXhyXeTpSF_G",
        "colab_type": "code",
        "outputId": "925e2df4-2218-412f-a53f-39850988d640",
        "colab": {
          "base_uri": "https://localhost:8080/",
          "height": 210
        }
      },
      "source": [
        "%matplotlib inline\n",
        "import matplotlib.cm as cm\n",
        "\n",
        "# plot first six training images\n",
        "fig = plt.figure(figsize=(20, 20))\n",
        "for i in range(6):\n",
        "  ax = fig.add_subplot(1, 6, i + 1, xticks=[], yticks=[])\n",
        "  ax.imshow(X_train[i], cmap='gray')\n",
        "  ax.set_title(str(y_train[i]))"
      ],
      "execution_count": 0,
      "outputs": [
        {
          "output_type": "display_data",
          "data": {
            "image/png": "[encoded data removed]",
            "text/plain": [
              "<Figure size 1440x1440 with 6 Axes>"
            ]
          },
          "metadata": {
            "tags": []
          }
        }
      ]
    },
    {
      "cell_type": "markdown",
      "metadata": {
        "id": "qC8MX9tfV90t",
        "colab_type": "text"
      },
      "source": [
        "### Preprocess input images"
      ]
    },
    {
      "cell_type": "markdown",
      "metadata": {
        "id": "fFMQHD-MV-8i",
        "colab_type": "text"
      },
      "source": [
        "We will rescale the Images by Dividing Every Pixel in Every Image by 255."
      ]
    },
    {
      "cell_type": "code",
      "metadata": {
        "id": "-1y-SVvBVxp2",
        "colab_type": "code",
        "outputId": "fe0d5609-53bd-4005-c417-81c038a41a7a",
        "colab": {
          "base_uri": "https://localhost:8080/",
          "height": 67
        }
      },
      "source": [
        "# normalize the data to accelerate learning\n",
        "mean = np.mean(X_train)\n",
        "std = np.std(X_train)\n",
        "\n",
        "X_train = (X_train - mean) / (std + 1e-7)\n",
        "X_test = (X_test - mean) / (std + 1e-7)\n",
        "\n",
        "print(f'X_train shape: {X_train.shape}')\n",
        "print(f'{X_train.shape[0]} train samples')\n",
        "print(f'{X_test.shape[0]} test samples')"
      ],
      "execution_count": 0,
      "outputs": [
        {
          "output_type": "stream",
          "text": [
            "X_train shape: (60000, 28, 28)\n",
            "60000 train samples\n",
            "10000 test samples\n"
          ],
          "name": "stdout"
        }
      ]
    },
    {
      "cell_type": "markdown",
      "metadata": {
        "id": "CGjSDvjAXm6u",
        "colab_type": "text"
      },
      "source": [
        "### Preprocess the labels"
      ]
    },
    {
      "cell_type": "markdown",
      "metadata": {
        "id": "hmExh2yFXnrX",
        "colab_type": "text"
      },
      "source": [
        "We will encode categorical integer labels using a One-Hot scheme."
      ]
    },
    {
      "cell_type": "code",
      "metadata": {
        "id": "7VcnXZNuXXRp",
        "colab_type": "code",
        "outputId": "e1bf493b-e44e-4173-bbb9-678de7ef3a96",
        "colab": {
          "base_uri": "https://localhost:8080/",
          "height": 233
        }
      },
      "source": [
        "from tensorflow.keras.utils import to_categorical\n",
        "\n",
        "num_classes = 10\n",
        "\n",
        "# print first ten (integer-valued) training labels\n",
        "print(f'Integer-valued labels:\\n{y_train[:10]}')\n",
        "\n",
        "# one-hot encode the labels\n",
        "# convert class vectors to binary class matrices\n",
        "y_train = to_categorical(y_train, num_classes)\n",
        "y_test = to_categorical(y_test, num_classes)\n",
        "\n",
        "# print first ten (one-hot) training labels\n",
        "print(f'One-hot labels:\\n{y_train[:10]}')"
      ],
      "execution_count": 0,
      "outputs": [
        {
          "output_type": "stream",
          "text": [
            "Integer-valued labels:\n",
            "[5 0 4 1 9 2 1 3 1 4]\n",
            "One-hot labels:\n",
            "[[0. 0. 0. 0. 0. 1. 0. 0. 0. 0.]\n",
            " [1. 0. 0. 0. 0. 0. 0. 0. 0. 0.]\n",
            " [0. 0. 0. 0. 1. 0. 0. 0. 0. 0.]\n",
            " [0. 1. 0. 0. 0. 0. 0. 0. 0. 0.]\n",
            " [0. 0. 0. 0. 0. 0. 0. 0. 0. 1.]\n",
            " [0. 0. 1. 0. 0. 0. 0. 0. 0. 0.]\n",
            " [0. 1. 0. 0. 0. 0. 0. 0. 0. 0.]\n",
            " [0. 0. 0. 1. 0. 0. 0. 0. 0. 0.]\n",
            " [0. 1. 0. 0. 0. 0. 0. 0. 0. 0.]\n",
            " [0. 0. 0. 0. 1. 0. 0. 0. 0. 0.]]\n"
          ],
          "name": "stdout"
        }
      ]
    },
    {
      "cell_type": "markdown",
      "metadata": {
        "id": "dtEMO2gkY99t",
        "colab_type": "text"
      },
      "source": [
        "### Reshape data to fit our CNN (and input_shape)"
      ]
    },
    {
      "cell_type": "code",
      "metadata": {
        "id": "bfiO8j3iZTUB",
        "colab_type": "code",
        "outputId": "5b74c061-316d-4061-9217-f15c4b56746a",
        "colab": {
          "base_uri": "https://localhost:8080/",
          "height": 33
        }
      },
      "source": [
        "X_train.shape, X_test.shape"
      ],
      "execution_count": 0,
      "outputs": [
        {
          "output_type": "execute_result",
          "data": {
            "text/plain": [
              "((60000, 28, 28), (10000, 28, 28))"
            ]
          },
          "metadata": {
            "tags": []
          },
          "execution_count": 17
        }
      ]
    },
    {
      "cell_type": "code",
      "metadata": {
        "id": "owiNkjzIYnHs",
        "colab_type": "code",
        "outputId": "1b823b00-6cd8-4ffe-8084-a27a0e940565",
        "colab": {
          "base_uri": "https://localhost:8080/",
          "height": 67
        }
      },
      "source": [
        "# input image dimensions 28x28 pixel images.\n",
        "img_rows, img_cols = 28, 28\n",
        "\n",
        "X_train = X_train.reshape(X_train.shape[0], img_rows, img_cols, 1)\n",
        "X_test = X_test.reshape(X_test.shape[0], img_rows, img_cols, 1)\n",
        "\n",
        "input_shape = (img_rows, img_cols, 1)\n",
        "\n",
        "print(f'image input shape: {input_shape}')\n",
        "print(f'x_train shape: {X_train.shape}')\n",
        "print(f'x_test shape: {X_test.shape}')"
      ],
      "execution_count": 0,
      "outputs": [
        {
          "output_type": "stream",
          "text": [
            "image input shape: (28, 28, 1)\n",
            "x_train shape: (60000, 28, 28, 1)\n",
            "x_test shape: (10000, 28, 28, 1)\n"
          ],
          "name": "stdout"
        }
      ]
    },
    {
      "cell_type": "markdown",
      "metadata": {
        "id": "5Y6hn8y-aWyN",
        "colab_type": "text"
      },
      "source": [
        "## Define the Model Architecture"
      ]
    },
    {
      "cell_type": "code",
      "metadata": {
        "id": "do9O40T2aBib",
        "colab_type": "code",
        "outputId": "dffac1e2-998b-4ee1-bc84-81b24b30df04",
        "colab": {
          "base_uri": "https://localhost:8080/",
          "height": 417
        }
      },
      "source": [
        "model = keras.models.Sequential()\n",
        "\n",
        "# C1 Convolutional Layer\n",
        "model.add(keras.layers.Conv2D(6, kernel_size=(5, 5), strides=(1, 1), activation='tanh', input_shape=input_shape, padding='same'))\n",
        "\n",
        "# S2 Pooling Layer\n",
        "model.add(keras.layers.AveragePooling2D(pool_size=(2, 2), strides=2, padding='valid'))\n",
        "\n",
        "# C3 Convolutional Layer\n",
        "model.add(keras.layers.Conv2D(16, kernel_size=(5, 5), strides=(1, 1), activation='tanh', padding='valid'))\n",
        "\n",
        "# S4 Pooling Layer\n",
        "model.add(keras.layers.AveragePooling2D(pool_size=(2, 2), strides=2, padding='valid'))\n",
        "\n",
        "# C5 Fully Connected Convolutional Layer\n",
        "model.add(keras.layers.Conv2D(120, kernel_size=(5, 5), strides=(1, 1), activation='tanh', padding='valid'))\n",
        "\n",
        "# Flatten the CNN output so that we can connect it with fully connected layers\n",
        "model.add(keras.layers.Flatten())\n",
        "\n",
        "# FC6 Fully Connected Layer\n",
        "model.add(keras.layers.Dense(84, activation='tanh'))\n",
        "\n",
        "# Output Layer with softmax activation\n",
        "model.add(keras.layers.Dense(10, activation='softmax'))\n",
        "\n",
        "# print the model summary\n",
        "model.summary()"
      ],
      "execution_count": 0,
      "outputs": [
        {
          "output_type": "stream",
          "text": [
            "Model: \"sequential\"\n",
            "_________________________________________________________________\n",
            "Layer (type)                 Output Shape              Param #   \n",
            "=================================================================\n",
            "conv2d (Conv2D)              (None, 28, 28, 6)         156       \n",
            "_________________________________________________________________\n",
            "average_pooling2d (AveragePo (None, 14, 14, 6)         0         \n",
            "_________________________________________________________________\n",
            "conv2d_1 (Conv2D)            (None, 10, 10, 16)        2416      \n",
            "_________________________________________________________________\n",
            "average_pooling2d_1 (Average (None, 5, 5, 16)          0         \n",
            "_________________________________________________________________\n",
            "conv2d_2 (Conv2D)            (None, 1, 1, 120)         48120     \n",
            "_________________________________________________________________\n",
            "flatten (Flatten)            (None, 120)               0         \n",
            "_________________________________________________________________\n",
            "dense (Dense)                (None, 84)                10164     \n",
            "_________________________________________________________________\n",
            "dense_1 (Dense)              (None, 10)                850       \n",
            "=================================================================\n",
            "Total params: 61,706\n",
            "Trainable params: 61,706\n",
            "Non-trainable params: 0\n",
            "_________________________________________________________________\n"
          ],
          "name": "stdout"
        }
      ]
    },
    {
      "cell_type": "markdown",
      "metadata": {
        "id": "DA8fPwyMd_rQ",
        "colab_type": "text"
      },
      "source": [
        "LeNet-5 is a small neural network with today’s standards. It has 61,706 parameters compared to millions of parameters in more modern networks."
      ]
    },
    {
      "cell_type": "markdown",
      "metadata": {
        "id": "kG3F6dL0ccNe",
        "colab_type": "text"
      },
      "source": [
        "### Compile the Model"
      ]
    },
    {
      "cell_type": "markdown",
      "metadata": {
        "id": "8WWGwa85cdvK",
        "colab_type": "text"
      },
      "source": [
        "The loss function is categorical cross entropy since we have multiple classes (10).\n",
        "\n",
        "So compile the model by defining the loss function, optimizer, and performance metric"
      ]
    },
    {
      "cell_type": "code",
      "metadata": {
        "id": "69I3LyjjcLk7",
        "colab_type": "code",
        "colab": {}
      },
      "source": [
        "model.compile(loss='categorical_crossentropy', optimizer='adam', metrics=['accuracy'])"
      ],
      "execution_count": 0,
      "outputs": []
    },
    {
      "cell_type": "markdown",
      "metadata": {
        "id": "NUAYXmtEc1uh",
        "colab_type": "text"
      },
      "source": [
        "### Train the Model"
      ]
    },
    {
      "cell_type": "code",
      "metadata": {
        "id": "ou6Etzt9cyuD",
        "colab_type": "code",
        "outputId": "308a7109-a778-463c-e125-4243252c105d",
        "colab": {
          "base_uri": "https://localhost:8080/",
          "height": 1000
        }
      },
      "source": [
        "from tensorflow.keras.callbacks import ModelCheckpoint\n",
        "\n",
        "checkpointer = ModelCheckpoint(filepath='model.weights.best.hdf5', verbose=1, save_best_only=True)\n",
        "\n",
        "history = model.fit(X_train, y_train, batch_size=32, epochs=20, validation_data=(X_test, y_test), \n",
        "                    callbacks=[checkpointer], verbose=2, shuffle=True)"
      ],
      "execution_count": 0,
      "outputs": [
        {
          "output_type": "stream",
          "text": [
            "Train on 60000 samples, validate on 10000 samples\n",
            "Epoch 1/20\n",
            "\n",
            "Epoch 00001: val_loss improved from inf to 0.07105, saving model to model.weights.best.hdf5\n",
            "60000/60000 - 37s - loss: 0.1847 - accuracy: 0.9449 - val_loss: 0.0711 - val_accuracy: 0.9788\n",
            "Epoch 2/20\n",
            "\n",
            "Epoch 00002: val_loss improved from 0.07105 to 0.04931, saving model to model.weights.best.hdf5\n",
            "60000/60000 - 37s - loss: 0.0648 - accuracy: 0.9801 - val_loss: 0.0493 - val_accuracy: 0.9845\n",
            "Epoch 3/20\n",
            "\n",
            "Epoch 00003: val_loss did not improve from 0.04931\n",
            "60000/60000 - 38s - loss: 0.0470 - accuracy: 0.9856 - val_loss: 0.0555 - val_accuracy: 0.9834\n",
            "Epoch 4/20\n",
            "\n",
            "Epoch 00004: val_loss improved from 0.04931 to 0.04312, saving model to model.weights.best.hdf5\n",
            "60000/60000 - 37s - loss: 0.0366 - accuracy: 0.9884 - val_loss: 0.0431 - val_accuracy: 0.9865\n",
            "Epoch 5/20\n",
            "\n",
            "Epoch 00005: val_loss did not improve from 0.04312\n",
            "60000/60000 - 37s - loss: 0.0302 - accuracy: 0.9901 - val_loss: 0.0487 - val_accuracy: 0.9834\n",
            "Epoch 6/20\n",
            "\n",
            "Epoch 00006: val_loss improved from 0.04312 to 0.04066, saving model to model.weights.best.hdf5\n",
            "60000/60000 - 38s - loss: 0.0247 - accuracy: 0.9920 - val_loss: 0.0407 - val_accuracy: 0.9884\n",
            "Epoch 7/20\n",
            "\n",
            "Epoch 00007: val_loss did not improve from 0.04066\n",
            "60000/60000 - 38s - loss: 0.0217 - accuracy: 0.9931 - val_loss: 0.0478 - val_accuracy: 0.9859\n",
            "Epoch 8/20\n",
            "\n",
            "Epoch 00008: val_loss improved from 0.04066 to 0.03932, saving model to model.weights.best.hdf5\n",
            "60000/60000 - 38s - loss: 0.0201 - accuracy: 0.9932 - val_loss: 0.0393 - val_accuracy: 0.9874\n",
            "Epoch 9/20\n",
            "\n",
            "Epoch 00009: val_loss did not improve from 0.03932\n",
            "60000/60000 - 38s - loss: 0.0145 - accuracy: 0.9954 - val_loss: 0.0483 - val_accuracy: 0.9853\n",
            "Epoch 10/20\n",
            "\n",
            "Epoch 00010: val_loss improved from 0.03932 to 0.03899, saving model to model.weights.best.hdf5\n",
            "60000/60000 - 37s - loss: 0.0162 - accuracy: 0.9946 - val_loss: 0.0390 - val_accuracy: 0.9885\n",
            "Epoch 11/20\n",
            "\n",
            "Epoch 00011: val_loss improved from 0.03899 to 0.03703, saving model to model.weights.best.hdf5\n",
            "60000/60000 - 37s - loss: 0.0137 - accuracy: 0.9955 - val_loss: 0.0370 - val_accuracy: 0.9885\n",
            "Epoch 12/20\n",
            "\n",
            "Epoch 00012: val_loss did not improve from 0.03703\n",
            "60000/60000 - 38s - loss: 0.0126 - accuracy: 0.9960 - val_loss: 0.0409 - val_accuracy: 0.9882\n",
            "Epoch 13/20\n",
            "\n",
            "Epoch 00013: val_loss did not improve from 0.03703\n",
            "60000/60000 - 38s - loss: 0.0120 - accuracy: 0.9961 - val_loss: 0.0416 - val_accuracy: 0.9883\n",
            "Epoch 14/20\n",
            "\n",
            "Epoch 00014: val_loss did not improve from 0.03703\n",
            "60000/60000 - 38s - loss: 0.0101 - accuracy: 0.9967 - val_loss: 0.0413 - val_accuracy: 0.9870\n",
            "Epoch 15/20\n",
            "\n",
            "Epoch 00015: val_loss did not improve from 0.03703\n",
            "60000/60000 - 37s - loss: 0.0101 - accuracy: 0.9967 - val_loss: 0.0402 - val_accuracy: 0.9882\n",
            "Epoch 16/20\n",
            "\n",
            "Epoch 00016: val_loss did not improve from 0.03703\n",
            "60000/60000 - 37s - loss: 0.0091 - accuracy: 0.9969 - val_loss: 0.0437 - val_accuracy: 0.9885\n",
            "Epoch 17/20\n",
            "\n",
            "Epoch 00017: val_loss did not improve from 0.03703\n",
            "60000/60000 - 38s - loss: 0.0099 - accuracy: 0.9967 - val_loss: 0.0450 - val_accuracy: 0.9886\n",
            "Epoch 18/20\n",
            "\n",
            "Epoch 00018: val_loss did not improve from 0.03703\n",
            "60000/60000 - 38s - loss: 0.0083 - accuracy: 0.9973 - val_loss: 0.0470 - val_accuracy: 0.9884\n",
            "Epoch 19/20\n",
            "\n",
            "Epoch 00019: val_loss did not improve from 0.03703\n",
            "60000/60000 - 38s - loss: 0.0063 - accuracy: 0.9978 - val_loss: 0.0511 - val_accuracy: 0.9875\n",
            "Epoch 20/20\n",
            "\n",
            "Epoch 00020: val_loss did not improve from 0.03703\n",
            "60000/60000 - 39s - loss: 0.0089 - accuracy: 0.9969 - val_loss: 0.0496 - val_accuracy: 0.9877\n"
          ],
          "name": "stdout"
        }
      ]
    },
    {
      "cell_type": "markdown",
      "metadata": {
        "id": "xH-zYarjeoW_",
        "colab_type": "text"
      },
      "source": [
        "## Evaluate the model"
      ]
    },
    {
      "cell_type": "markdown",
      "metadata": {
        "id": "vDMPWMw7e6_G",
        "colab_type": "text"
      },
      "source": [
        "Load the Model with the Best Classification Accuracy on the Validation Set"
      ]
    },
    {
      "cell_type": "code",
      "metadata": {
        "id": "hfw_n9qOdFXb",
        "colab_type": "code",
        "colab": {}
      },
      "source": [
        "# load the weights that yielded the best validation accuracy\n",
        "model.load_weights('model.weights.best.hdf5')"
      ],
      "execution_count": 0,
      "outputs": []
    },
    {
      "cell_type": "markdown",
      "metadata": {
        "id": "mih3yvVDe8kE",
        "colab_type": "text"
      },
      "source": [
        "Calculate the Classification Accuracy on the Test Set"
      ]
    },
    {
      "cell_type": "code",
      "metadata": {
        "id": "4jxdySqvfCCk",
        "colab_type": "code",
        "outputId": "420c37a4-b030-450b-c045-124b3c6265ca",
        "colab": {
          "base_uri": "https://localhost:8080/",
          "height": 33
        }
      },
      "source": [
        "# evaluate test accuracy\n",
        "score = model.evaluate(X_test, y_test, verbose=0)\n",
        "accuracy = 100 * score[1]\n",
        "print('Test accuracy: %.4f%%' % accuracy)"
      ],
      "execution_count": 0,
      "outputs": [
        {
          "output_type": "stream",
          "text": [
            "Test accuracy: 98.8500%\n"
          ],
          "name": "stdout"
        }
      ]
    },
    {
      "cell_type": "markdown",
      "metadata": {
        "id": "qk3pmNFUfenm",
        "colab_type": "text"
      },
      "source": [
        "Plot accuracy/loss per epoch"
      ]
    },
    {
      "cell_type": "code",
      "metadata": {
        "id": "KiCYdrJWfxds",
        "colab_type": "code",
        "outputId": "42085270-f05c-4a97-a23c-53778593d2d2",
        "colab": {
          "base_uri": "https://localhost:8080/",
          "height": 295
        }
      },
      "source": [
        "f, ax = plt.subplots()\n",
        "ax.plot([None] + history.history['accuracy'], 'o-')\n",
        "ax.plot([None] + history.history['val_accuracy'], 'x-')\n",
        "# Plot legend and use the best location automatically: loc = 0.\n",
        "ax.legend(['Train accuracy', 'Validation accuracy'], loc = 0)\n",
        "ax.set_title('Training/Validation accuracy per Epoch')\n",
        "ax.set_xlabel('Epoch')\n",
        "ax.set_ylabel('accuracy')\n",
        "plt.show()"
      ],
      "execution_count": 0,
      "outputs": [
        {
          "output_type": "display_data",
          "data": {
            "image/png": "[encoded data removed]",
            "text/plain": [
              "<Figure size 432x288 with 1 Axes>"
            ]
          },
          "metadata": {
            "tags": []
          }
        }
      ]
    },
    {
      "cell_type": "code",
      "metadata": {
        "id": "vjxi6tfefnxQ",
        "colab_type": "code",
        "outputId": "76df31c5-a6aa-4de3-984e-c508a6e60f78",
        "colab": {
          "base_uri": "https://localhost:8080/",
          "height": 295
        }
      },
      "source": [
        "f, ax = plt.subplots()\n",
        "ax.plot([None] + history.history['loss'], 'o-')\n",
        "ax.plot([None] + history.history['val_loss'], 'x-')\n",
        "\n",
        "# Plot legend and use the best location automatically: loc = 0.\n",
        "ax.legend(['Train loss', \"Val loss\"], loc = 0)\n",
        "ax.set_title('Training/Validation Loss per Epoch')\n",
        "ax.set_xlabel('Epoch')\n",
        "ax.set_ylabel('Loss')\n",
        "plt.show()"
      ],
      "execution_count": 0,
      "outputs": [
        {
          "output_type": "display_data",
          "data": {
            "image/png": "[encoded data removed]",
            "text/plain": [
              "<Figure size 432x288 with 1 Axes>"
            ]
          },
          "metadata": {
            "tags": []
          }
        }
      ]
    },
    {
      "cell_type": "markdown",
      "metadata": {
        "id": "7vwzjqwUf6C9",
        "colab_type": "text"
      },
      "source": [
        "## LeNet performance on MNIST dataset"
      ]
    },
    {
      "cell_type": "markdown",
      "metadata": {
        "id": "WH88VTnqf7if",
        "colab_type": "text"
      },
      "source": [
        "When you train LeNet-5 on the MNIST dataset you will get above 99% accuracy.\n",
        "\n",
        "Try to re-run this experiment with ‘relu’ activation function in the hidden layers and observe the difference in the network performance."
      ]
    },
    {
      "cell_type": "code",
      "metadata": {
        "id": "9TiTVUPpfuc8",
        "colab_type": "code",
        "outputId": "c4886a75-4978-4d75-9f5c-97eef75bc51d",
        "colab": {
          "base_uri": "https://localhost:8080/",
          "height": 417
        }
      },
      "source": [
        "model = keras.models.Sequential()\n",
        "\n",
        "# C1 Convolutional Layer\n",
        "model.add(keras.layers.Conv2D(6, kernel_size=(5, 5), strides=(1, 1), activation='relu', input_shape=input_shape, padding='same'))\n",
        "\n",
        "# S2 Pooling Layer\n",
        "model.add(keras.layers.AveragePooling2D(pool_size=(2, 2), strides=2, padding='valid'))\n",
        "\n",
        "# C3 Convolutional Layer\n",
        "model.add(keras.layers.Conv2D(16, kernel_size=(5, 5), strides=(1, 1), activation='relu', padding='valid'))\n",
        "\n",
        "# S4 Pooling Layer\n",
        "model.add(keras.layers.AveragePooling2D(pool_size=(2, 2), strides=2, padding='valid'))\n",
        "\n",
        "# C5 Fully Connected Convolutional Layer\n",
        "model.add(keras.layers.Conv2D(120, kernel_size=(5, 5), strides=(1, 1), activation='relu', padding='valid'))\n",
        "\n",
        "# Flatten the CNN output so that we can connect it with fully connected layers\n",
        "model.add(keras.layers.Flatten())\n",
        "\n",
        "# FC6 Fully Connected Layer\n",
        "model.add(keras.layers.Dense(84, activation='relu'))\n",
        "\n",
        "# Output Layer with softmax activation\n",
        "model.add(keras.layers.Dense(10, activation='softmax'))\n",
        "\n",
        "# print the model summary\n",
        "model.summary()"
      ],
      "execution_count": 0,
      "outputs": [
        {
          "output_type": "stream",
          "text": [
            "Model: \"sequential_1\"\n",
            "_________________________________________________________________\n",
            "Layer (type)                 Output Shape              Param #   \n",
            "=================================================================\n",
            "conv2d_3 (Conv2D)            (None, 28, 28, 6)         156       \n",
            "_________________________________________________________________\n",
            "average_pooling2d_2 (Average (None, 14, 14, 6)         0         \n",
            "_________________________________________________________________\n",
            "conv2d_4 (Conv2D)            (None, 10, 10, 16)        2416      \n",
            "_________________________________________________________________\n",
            "average_pooling2d_3 (Average (None, 5, 5, 16)          0         \n",
            "_________________________________________________________________\n",
            "conv2d_5 (Conv2D)            (None, 1, 1, 120)         48120     \n",
            "_________________________________________________________________\n",
            "flatten_1 (Flatten)          (None, 120)               0         \n",
            "_________________________________________________________________\n",
            "dense_2 (Dense)              (None, 84)                10164     \n",
            "_________________________________________________________________\n",
            "dense_3 (Dense)              (None, 10)                850       \n",
            "=================================================================\n",
            "Total params: 61,706\n",
            "Trainable params: 61,706\n",
            "Non-trainable params: 0\n",
            "_________________________________________________________________\n"
          ],
          "name": "stdout"
        }
      ]
    },
    {
      "cell_type": "code",
      "metadata": {
        "id": "blrZXXzRgSie",
        "colab_type": "code",
        "colab": {}
      },
      "source": [
        "model.compile(loss='categorical_crossentropy', optimizer='adam', metrics=['accuracy'])"
      ],
      "execution_count": 0,
      "outputs": []
    },
    {
      "cell_type": "code",
      "metadata": {
        "id": "AUPVx9JpgXHK",
        "colab_type": "code",
        "outputId": "548dfa14-42d4-473f-e45e-c445816bb49c",
        "colab": {
          "base_uri": "https://localhost:8080/",
          "height": 1000
        }
      },
      "source": [
        "checkpointer = ModelCheckpoint(filepath='model.weights.best2.hdf5', verbose=1, save_best_only=True)\n",
        "\n",
        "history = model.fit(X_train, y_train, batch_size=32, epochs=20, validation_data=(X_test, y_test), \n",
        "                    callbacks=[checkpointer], verbose=2, shuffle=True)"
      ],
      "execution_count": 0,
      "outputs": [
        {
          "output_type": "stream",
          "text": [
            "Train on 60000 samples, validate on 10000 samples\n",
            "Epoch 1/20\n",
            "\n",
            "Epoch 00001: val_loss improved from inf to 0.05844, saving model to model.weights.best2.hdf5\n",
            "60000/60000 - 39s - loss: 0.1877 - accuracy: 0.9426 - val_loss: 0.0584 - val_accuracy: 0.9813\n",
            "Epoch 2/20\n",
            "\n",
            "Epoch 00002: val_loss improved from 0.05844 to 0.05072, saving model to model.weights.best2.hdf5\n",
            "60000/60000 - 38s - loss: 0.0629 - accuracy: 0.9813 - val_loss: 0.0507 - val_accuracy: 0.9845\n",
            "Epoch 3/20\n",
            "\n",
            "Epoch 00003: val_loss improved from 0.05072 to 0.03793, saving model to model.weights.best2.hdf5\n",
            "60000/60000 - 38s - loss: 0.0452 - accuracy: 0.9853 - val_loss: 0.0379 - val_accuracy: 0.9877\n",
            "Epoch 4/20\n",
            "\n",
            "Epoch 00004: val_loss improved from 0.03793 to 0.03446, saving model to model.weights.best2.hdf5\n",
            "60000/60000 - 37s - loss: 0.0359 - accuracy: 0.9883 - val_loss: 0.0345 - val_accuracy: 0.9883\n",
            "Epoch 5/20\n",
            "\n",
            "Epoch 00005: val_loss did not improve from 0.03446\n",
            "60000/60000 - 38s - loss: 0.0298 - accuracy: 0.9903 - val_loss: 0.0489 - val_accuracy: 0.9859\n",
            "Epoch 6/20\n",
            "\n",
            "Epoch 00006: val_loss did not improve from 0.03446\n",
            "60000/60000 - 37s - loss: 0.0234 - accuracy: 0.9920 - val_loss: 0.0419 - val_accuracy: 0.9888\n",
            "Epoch 7/20\n",
            "\n",
            "Epoch 00007: val_loss did not improve from 0.03446\n",
            "60000/60000 - 38s - loss: 0.0210 - accuracy: 0.9930 - val_loss: 0.0395 - val_accuracy: 0.9883\n",
            "Epoch 8/20\n",
            "\n",
            "Epoch 00008: val_loss improved from 0.03446 to 0.03145, saving model to model.weights.best2.hdf5\n",
            "60000/60000 - 37s - loss: 0.0169 - accuracy: 0.9945 - val_loss: 0.0315 - val_accuracy: 0.9903\n",
            "Epoch 9/20\n",
            "\n",
            "Epoch 00009: val_loss did not improve from 0.03145\n",
            "60000/60000 - 37s - loss: 0.0146 - accuracy: 0.9951 - val_loss: 0.0392 - val_accuracy: 0.9894\n",
            "Epoch 10/20\n",
            "\n",
            "Epoch 00010: val_loss did not improve from 0.03145\n",
            "60000/60000 - 37s - loss: 0.0141 - accuracy: 0.9955 - val_loss: 0.0348 - val_accuracy: 0.9905\n",
            "Epoch 11/20\n",
            "\n",
            "Epoch 00011: val_loss did not improve from 0.03145\n",
            "60000/60000 - 37s - loss: 0.0123 - accuracy: 0.9960 - val_loss: 0.0323 - val_accuracy: 0.9909\n",
            "Epoch 12/20\n",
            "\n",
            "Epoch 00012: val_loss did not improve from 0.03145\n",
            "60000/60000 - 37s - loss: 0.0117 - accuracy: 0.9962 - val_loss: 0.0347 - val_accuracy: 0.9901\n",
            "Epoch 13/20\n",
            "\n",
            "Epoch 00013: val_loss did not improve from 0.03145\n",
            "60000/60000 - 37s - loss: 0.0100 - accuracy: 0.9970 - val_loss: 0.0406 - val_accuracy: 0.9896\n",
            "Epoch 14/20\n",
            "\n",
            "Epoch 00014: val_loss did not improve from 0.03145\n",
            "60000/60000 - 37s - loss: 0.0094 - accuracy: 0.9971 - val_loss: 0.0414 - val_accuracy: 0.9895\n",
            "Epoch 15/20\n",
            "\n",
            "Epoch 00015: val_loss did not improve from 0.03145\n",
            "60000/60000 - 37s - loss: 0.0091 - accuracy: 0.9970 - val_loss: 0.0494 - val_accuracy: 0.9891\n",
            "Epoch 16/20\n",
            "\n",
            "Epoch 00016: val_loss did not improve from 0.03145\n",
            "60000/60000 - 37s - loss: 0.0092 - accuracy: 0.9970 - val_loss: 0.0460 - val_accuracy: 0.9897\n",
            "Epoch 17/20\n",
            "\n",
            "Epoch 00017: val_loss did not improve from 0.03145\n",
            "60000/60000 - 37s - loss: 0.0095 - accuracy: 0.9969 - val_loss: 0.0442 - val_accuracy: 0.9897\n",
            "Epoch 18/20\n",
            "\n",
            "Epoch 00018: val_loss did not improve from 0.03145\n",
            "60000/60000 - 37s - loss: 0.0064 - accuracy: 0.9981 - val_loss: 0.0496 - val_accuracy: 0.9907\n",
            "Epoch 19/20\n",
            "\n",
            "Epoch 00019: val_loss did not improve from 0.03145\n",
            "60000/60000 - 37s - loss: 0.0080 - accuracy: 0.9977 - val_loss: 0.0506 - val_accuracy: 0.9887\n",
            "Epoch 20/20\n",
            "\n",
            "Epoch 00020: val_loss did not improve from 0.03145\n",
            "60000/60000 - 36s - loss: 0.0063 - accuracy: 0.9980 - val_loss: 0.0581 - val_accuracy: 0.9892\n"
          ],
          "name": "stdout"
        }
      ]
    },
    {
      "cell_type": "code",
      "metadata": {
        "id": "zWvGHSjRgfXm",
        "colab_type": "code",
        "colab": {}
      },
      "source": [
        "# load the weights that yielded the best validation accuracy\n",
        "model.load_weights('model.weights.best2.hdf5')"
      ],
      "execution_count": 0,
      "outputs": []
    },
    {
      "cell_type": "code",
      "metadata": {
        "id": "qsQ2wAPbgirl",
        "colab_type": "code",
        "outputId": "4cad7f15-0743-4672-aac3-e016b34680f7",
        "colab": {
          "base_uri": "https://localhost:8080/",
          "height": 33
        }
      },
      "source": [
        "# evaluate test accuracy\n",
        "score = model.evaluate(X_test, y_test, verbose=0)\n",
        "accuracy = 100 * score[1]\n",
        "print('Test accuracy: %.4f%%' % accuracy)"
      ],
      "execution_count": 0,
      "outputs": [
        {
          "output_type": "stream",
          "text": [
            "Test accuracy: 99.0300%\n"
          ],
          "name": "stdout"
        }
      ]
    },
    {
      "cell_type": "code",
      "metadata": {
        "id": "LmZjSdDrhBrQ",
        "colab_type": "code",
        "outputId": "94d18d93-509c-4ac9-842d-fd29b7573be6",
        "colab": {
          "base_uri": "https://localhost:8080/",
          "height": 295
        }
      },
      "source": [
        "f, ax = plt.subplots()\n",
        "ax.plot([None] + history.history['accuracy'], 'o-')\n",
        "ax.plot([None] + history.history['val_accuracy'], 'x-')\n",
        "# Plot legend and use the best location automatically: loc = 0.\n",
        "ax.legend(['Train accuracy', 'Validation accuracy'], loc = 0)\n",
        "ax.set_title('Training/Validation accuracy per Epoch')\n",
        "ax.set_xlabel('Epoch')\n",
        "ax.set_ylabel('accuracy')\n",
        "plt.show()"
      ],
      "execution_count": 0,
      "outputs": [
        {
          "output_type": "display_data",
          "data": {
            "image/png": "[encoded data removed]",
            "text/plain": [
              "<Figure size 432x288 with 1 Axes>"
            ]
          },
          "metadata": {
            "tags": []
          }
        }
      ]
    },
    {
      "cell_type": "code",
      "metadata": {
        "id": "u9iiq5XGhCQV",
        "colab_type": "code",
        "outputId": "a7f0d286-45c0-4907-debb-07fa8ae43db0",
        "colab": {
          "base_uri": "https://localhost:8080/",
          "height": 295
        }
      },
      "source": [
        "f, ax = plt.subplots()\n",
        "ax.plot([None] + history.history['loss'], 'o-')\n",
        "ax.plot([None] + history.history['val_loss'], 'x-')\n",
        "\n",
        "# Plot legend and use the best location automatically: loc = 0.\n",
        "ax.legend(['Train loss', \"Val loss\"], loc = 0)\n",
        "ax.set_title('Training/Validation Loss per Epoch')\n",
        "ax.set_xlabel('Epoch')\n",
        "ax.set_ylabel('Loss')\n",
        "plt.show()"
      ],
      "execution_count": 0,
      "outputs": [
        {
          "output_type": "display_data",
          "data": {
            "image/png": "[encoded data removed]",
            "text/plain": [
              "<Figure size 432x288 with 1 Axes>"
            ]
          },
          "metadata": {
            "tags": []
          }
        }
      ]
    }
  ]
}