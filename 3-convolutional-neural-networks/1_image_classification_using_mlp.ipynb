{
  "nbformat": 4,
  "nbformat_minor": 0,
  "metadata": {
    "colab": {
      "name": "1-image-classification-using-mlp.ipynb",
      "provenance": [],
      "toc_visible": true,
      "include_colab_link": true
    },
    "kernelspec": {
      "name": "python3",
      "display_name": "Python 3"
    }
  },
  "cells": [
    {
      "cell_type": "markdown",
      "metadata": {
        "id": "view-in-github",
        "colab_type": "text"
      },
      "source": [
        "<a href=\"https://colab.research.google.com/github/rahiakela/deep_learning_for_vision_systems/blob/3-convolutional-neural-networks/1_image_classification_using_mlp.ipynb\" target=\"_parent\"><img src=\"https://colab.research.google.com/assets/colab-badge.svg\" alt=\"Open In Colab\"/></a>"
      ]
    },
    {
      "cell_type": "markdown",
      "metadata": {
        "id": "Ytjow6CfoWbU",
        "colab_type": "text"
      },
      "source": [
        "# Image classification using MLP"
      ]
    },
    {
      "cell_type": "markdown",
      "metadata": {
        "id": "seg7gkKPo4g3",
        "colab_type": "text"
      },
      "source": [
        "Neurons are stacked in layers on top of each\n",
        "other with weights connections. The MLP architecture consists of \n",
        "\n",
        "* 1) input layer, \n",
        "* 2) one or more hidden layers, and \n",
        "* 3) output layer.\n",
        "\n",
        "<img src='https://github.com/rahiakela/img-repo/blob/master/deep_learning_for_vision_systems/mlp-architecture.png?raw=1' width='800'/>\n",
        "\n",
        "Let’s look at the three main components of our MLP architecture (input layer, hidden layers, and output layer)."
      ]
    },
    {
      "cell_type": "markdown",
      "metadata": {
        "id": "rdLIKUlFrm5A",
        "colab_type": "text"
      },
      "source": [
        "## Setup"
      ]
    },
    {
      "cell_type": "code",
      "metadata": {
        "id": "IAYMnTf9ronf",
        "colab_type": "code",
        "colab": {}
      },
      "source": [
        "from __future__ import absolute_import, division, print_function, unicode_literals\n",
        "\n",
        "try:\n",
        "  # %tensorflow_version only exists in Colab.\n",
        "  %tensorflow_version 2.x\n",
        "except Exception:\n",
        "  pass\n",
        "import tensorflow as tf\n",
        "from tensorflow import keras\n",
        "import numpy as np\n",
        "import pandas as pd\n",
        "\n",
        "from tensorflow.keras.datasets import mnist\n",
        "\n",
        "from tensorflow.keras.models import Sequential\n",
        "from tensorflow.keras.layers import Flatten, Dense\n",
        "\n",
        "import matplotlib.pyplot as plt\n",
        "import matplotlib.cm as cm\n",
        "%matplotlib inline"
      ],
      "execution_count": 0,
      "outputs": []
    },
    {
      "cell_type": "code",
      "metadata": {
        "id": "gqsNaZlzuewW",
        "colab_type": "code",
        "colab": {
          "base_uri": "https://localhost:8080/",
          "height": 88
        },
        "outputId": "eb17b928-231b-47eb-e777-727968afef1d"
      },
      "source": [
        "# use Keras to import pre-shuffled MNIST database\n",
        "(X_train, y_train), (X_test, y_test) = mnist.load_data()\n",
        "\n",
        "print(f'The MNIST database has a training set of {str(len(X_train))} examples.')\n",
        "print(f'The MNIST database has a test  set of {str(len(X_test))} examples.')"
      ],
      "execution_count": 2,
      "outputs": [
        {
          "output_type": "stream",
          "text": [
            "Downloading data from https://storage.googleapis.com/tensorflow/tf-keras-datasets/mnist.npz\n",
            "11493376/11490434 [==============================] - 0s 0us/step\n",
            "The MNIST database has a training set of 60000 examples.\n",
            "The MNIST database has a test  set of 10000 examples.\n"
          ],
          "name": "stdout"
        }
      ]
    },
    {
      "cell_type": "markdown",
      "metadata": {
        "id": "Pj4WipGusPMi",
        "colab_type": "text"
      },
      "source": [
        "## Input layer"
      ]
    },
    {
      "cell_type": "markdown",
      "metadata": {
        "id": "JisGK7vZsQFf",
        "colab_type": "text"
      },
      "source": [
        "First, let’s see how computers see images: In the figure below, we have an image of 28 pixels wide x 28 pixels height. This image is seen by the computer as a 28x28 matrix with pixel values range from 0 to 255 (0 for black and 255 for white and the range in between for gray scale).\n",
        "\n",
        "<img src='https://github.com/rahiakela/img-repo/blob/master/deep_learning_for_vision_systems/image-sample.png?raw=1' width='800'/>"
      ]
    },
    {
      "cell_type": "code",
      "metadata": {
        "id": "puljYbN3sKhJ",
        "colab_type": "code",
        "colab": {
          "base_uri": "https://localhost:8080/",
          "height": 700
        },
        "outputId": "0c81c9bc-ac89-48f1-95bb-f2152d8e79d2"
      },
      "source": [
        "def visualize_input(img, ax):\n",
        "  ax.imshow(img, cmap='gray')\n",
        "  width, height = img.shape\n",
        "  thresh = img.max() / 2.5\n",
        "  for x in range(width):\n",
        "    for y in range(height):\n",
        "      ax.annotate(str(round(img[x][y], 2)), xy=(x, y), horizontalalignment='center', verticalalignment='center', \n",
        "                  color='gray' if img[x][y] < thresh else 'black')\n",
        "      \n",
        "fig = plt.figure(figsize=(12, 12))\n",
        "ax = fig.add_subplot(111)\n",
        "visualize_input(X_train[7], ax)"
      ],
      "execution_count": 6,
      "outputs": [
        {
          "output_type": "display_data",
          "data": {
            "image/png": "[encoded data removed]",
            "text/plain": [
              "<Figure size 864x864 with 1 Axes>"
            ]
          },
          "metadata": {
            "tags": []
          }
        }
      ]
    },
    {
      "cell_type": "code",
      "metadata": {
        "id": "OufgfshKu9zo",
        "colab_type": "code",
        "colab": {
          "base_uri": "https://localhost:8080/",
          "height": 1000
        },
        "outputId": "76d01368-7bb9-4b18-9b89-a567543c3efb"
      },
      "source": [
        "X_train[7].reshape(1, 784)"
      ],
      "execution_count": 9,
      "outputs": [
        {
          "output_type": "execute_result",
          "data": {
            "text/plain": [
              "array([[  0,   0,   0,   0,   0,   0,   0,   0,   0,   0,   0,   0,   0,\n",
              "          0,   0,   0,   0,   0,   0,   0,   0,   0,   0,   0,   0,   0,\n",
              "          0,   0,   0,   0,   0,   0,   0,   0,   0,   0,   0,   0,   0,\n",
              "          0,   0,   0,   0,   0,   0,   0,   0,   0,   0,   0,   0,   0,\n",
              "          0,   0,   0,   0,   0,   0,   0,   0,   0,   0,   0,   0,   0,\n",
              "          0,   0,   0,   0,   0,   0,   0,   0,   0,   0,   0,   0,   0,\n",
              "          0,   0,   0,   0,   0,   0,   0,   0,   0,   0,   0,   0,   0,\n",
              "          0,   0,   0,   0,   0,   0,   0,   0,   0,   0,   0,   0,   0,\n",
              "          0,   0,   0,   0,   0,   0,   0,   0,   0,   0,   0,   0,   0,\n",
              "          0,   0,   0,   0,   0,   0,   0,   0,   0,   0,   0,   0,   0,\n",
              "          0,   0,   0,   0,   0,   0,   0,   0,   0,   0,   0,   0,   0,\n",
              "          0,   0,   0,   0,   0,   0,   0,   0,  38,  43, 105, 255, 253,\n",
              "        253, 253, 253, 253, 174,   6,   0,   0,   0,   0,   0,   0,   0,\n",
              "          0,   0,   0,   0,   0,   0,   0,   0,  43, 139, 224, 226, 252,\n",
              "        253, 252, 252, 252, 252, 252, 252, 158,  14,   0,   0,   0,   0,\n",
              "          0,   0,   0,   0,   0,   0,   0,   0,   0,   0, 178, 252, 252,\n",
              "        252, 252, 253, 252, 252, 252, 252, 252, 252, 252,  59,   0,   0,\n",
              "          0,   0,   0,   0,   0,   0,   0,   0,   0,   0,   0,   0, 109,\n",
              "        252, 252, 230, 132, 133, 132, 132, 189, 252, 252, 252, 252,  59,\n",
              "          0,   0,   0,   0,   0,   0,   0,   0,   0,   0,   0,   0,   0,\n",
              "          0,   4,  29,  29,  24,   0,   0,   0,   0,  14, 226, 252, 252,\n",
              "        172,   7,   0,   0,   0,   0,   0,   0,   0,   0,   0,   0,   0,\n",
              "          0,   0,   0,   0,   0,   0,   0,   0,   0,   0,   0,  85, 243,\n",
              "        252, 252, 144,   0,   0,   0,   0,   0,   0,   0,   0,   0,   0,\n",
              "          0,   0,   0,   0,   0,   0,   0,   0,   0,   0,   0,   0,  88,\n",
              "        189, 252, 252, 252,  14,   0,   0,   0,   0,   0,   0,   0,   0,\n",
              "          0,   0,   0,   0,   0,   0,   0,   0,   0,   0,   0,   0,  91,\n",
              "        212, 247, 252, 252, 252, 204,   9,   0,   0,   0,   0,   0,   0,\n",
              "          0,   0,   0,   0,   0,   0,   0,   0,   0,  32, 125, 193, 193,\n",
              "        193, 253, 252, 252, 252, 238, 102,  28,   0,   0,   0,   0,   0,\n",
              "          0,   0,   0,   0,   0,   0,   0,   0,   0,   0,  45, 222, 252,\n",
              "        252, 252, 252, 253, 252, 252, 252, 177,   0,   0,   0,   0,   0,\n",
              "          0,   0,   0,   0,   0,   0,   0,   0,   0,   0,   0,   0,  45,\n",
              "        223, 253, 253, 253, 253, 255, 253, 253, 253, 253,  74,   0,   0,\n",
              "          0,   0,   0,   0,   0,   0,   0,   0,   0,   0,   0,   0,   0,\n",
              "          0,   0,  31, 123,  52,  44,  44,  44,  44, 143, 252, 252,  74,\n",
              "          0,   0,   0,   0,   0,   0,   0,   0,   0,   0,   0,   0,   0,\n",
              "          0,   0,   0,   0,   0,   0,   0,   0,   0,   0,   0,  15, 252,\n",
              "        252,  74,   0,   0,   0,   0,   0,   0,   0,   0,   0,   0,   0,\n",
              "          0,   0,   0,   0,   0,   0,   0,   0,   0,   0,   0,   0,   0,\n",
              "         86, 252, 252,  74,   0,   0,   0,   0,   0,   0,   0,   0,   0,\n",
              "          0,   0,   0,   0,   0,   5,  75,   9,   0,   0,   0,   0,   0,\n",
              "          0,  98, 242, 252, 252,  74,   0,   0,   0,   0,   0,   0,   0,\n",
              "          0,   0,   0,   0,   0,   0,  61, 183, 252,  29,   0,   0,   0,\n",
              "          0,  18,  92, 239, 252, 252, 243,  65,   0,   0,   0,   0,   0,\n",
              "          0,   0,   0,   0,   0,   0,   0,   0, 208, 252, 252, 147, 134,\n",
              "        134, 134, 134, 203, 253, 252, 252, 188,  83,   0,   0,   0,   0,\n",
              "          0,   0,   0,   0,   0,   0,   0,   0,   0,   0, 208, 252, 252,\n",
              "        252, 252, 252, 252, 252, 252, 253, 230, 153,   8,   0,   0,   0,\n",
              "          0,   0,   0,   0,   0,   0,   0,   0,   0,   0,   0,   0,  49,\n",
              "        157, 252, 252, 252, 252, 252, 217, 207, 146,  45,   0,   0,   0,\n",
              "          0,   0,   0,   0,   0,   0,   0,   0,   0,   0,   0,   0,   0,\n",
              "          0,   0,   7, 103, 235, 252, 172, 103,  24,   0,   0,   0,   0,\n",
              "          0,   0,   0,   0,   0,   0,   0,   0,   0,   0,   0,   0,   0,\n",
              "          0,   0,   0,   0,   0,   0,   0,   0,   0,   0,   0,   0,   0,\n",
              "          0,   0,   0,   0,   0,   0,   0,   0,   0,   0,   0,   0,   0,\n",
              "          0,   0,   0,   0,   0,   0,   0,   0,   0,   0,   0,   0,   0,\n",
              "          0,   0,   0,   0,   0,   0,   0,   0,   0,   0,   0,   0,   0,\n",
              "          0,   0,   0,   0,   0,   0,   0,   0,   0,   0,   0,   0,   0,\n",
              "          0,   0,   0,   0,   0,   0,   0,   0,   0,   0,   0,   0,   0,\n",
              "          0,   0,   0,   0]], dtype=uint8)"
            ]
          },
          "metadata": {
            "tags": []
          },
          "execution_count": 9
        }
      ]
    },
    {
      "cell_type": "code",
      "metadata": {
        "id": "Qkgk04YcvuXF",
        "colab_type": "code",
        "colab": {
          "base_uri": "https://localhost:8080/",
          "height": 210
        },
        "outputId": "535f481e-b074-4a55-8255-e07afef4a1a9"
      },
      "source": [
        "# plot first six training images\n",
        "fig = plt.figure(figsize=(20, 20))\n",
        "for i in range(6):\n",
        "  ax = fig.add_subplot(1, 6, i + 1, xticks=[], yticks=[])\n",
        "  ax.imshow(X_train[i], cmap='gray')\n",
        "  ax.set_title(str(y_train[i]))"
      ],
      "execution_count": 10,
      "outputs": [
        {
          "output_type": "display_data",
          "data": {
            "image/png": "[encoded data removed]",
            "text/plain": [
              "<Figure size 1440x1440 with 6 Axes>"
            ]
          },
          "metadata": {
            "tags": []
          }
        }
      ]
    },
    {
      "cell_type": "markdown",
      "metadata": {
        "id": "VAve0eK4xG9t",
        "colab_type": "text"
      },
      "source": [
        "Since MLPs only take the input as a 1D vector with dimensions (1, n), they cannot take the raw 2D image matrix with dimensions (x, y). To fit the image in the input layer, we first need to transform our image into one large vector with the dimensions (1, n) that contains all the pixels’ values of the image. This process is called image flattening. \n",
        "\n",
        "In this example, the total number (n) of pixels in this image is 28 x 28 = 784. Then, in order to feed this image to our network, we need to flatten the (28x28) matrix to one long vector with dimensions (1, 784). The input vector will look like this:\n",
        "\n",
        "x = [row1, row2, row 3, ……., row 28]\n",
        "\n",
        "That said, the input layer in this example will have a total of 784 nodes. x1, x2, x3....... x784.\n",
        "\n",
        "Here is how we flatten the input image in Keras:\n",
        "```python\n",
        "# define the model\n",
        "model = Sequential()\n",
        "# add the flatten layer - also known as the input layer\n",
        "model.add( Flatten(input_shape = (28,28) )\n",
        "```\n",
        "\n",
        "Alright, the Flatten layer in Keras takes care of this process for us. It takes the 2D image\n",
        "matrix input and converts it to a 1D vector. Note that the Flatten layer must be supplied a\n",
        "parameter value of the shape of the input image. Now the image is ready to be fed to the\n",
        "neural network.\n",
        "\n",
        "So to allow the network to understand 2D images, we need to preprocess the images first before feeding them to the network."
      ]
    },
    {
      "cell_type": "markdown",
      "metadata": {
        "id": "yhFudbajyW2_",
        "colab_type": "text"
      },
      "source": [
        "## Hidden Layers"
      ]
    },
    {
      "cell_type": "markdown",
      "metadata": {
        "id": "kuNCaa-0yfX9",
        "colab_type": "text"
      },
      "source": [
        "The neural network can have one or more hidden layers\n",
        "(technically, as many as you want). Each layer has one or more neurons (also technically as many as you want). Your main job, as a neural network engineer, is to design these layers.\n",
        "\n",
        "let’s say we decided to arbitrarily design the network to have 2 hidden layers, each have 512 nodes. And don’t forget to add the ReLU activation function for\n",
        "each hidden layer.\n",
        "\n",
        "let’s add two Dense layers using Keras. Dense layer is another\n",
        "name for Fully Connected layer (FC).\n",
        "\n",
        "```python\n",
        "# add two Dense layers with 512 nodes each\n",
        "model.add(Dense(512, activation = 'relu'))\n",
        "model.add(Dense(512, activation = 'relu'))\n",
        "```"
      ]
    },
    {
      "cell_type": "markdown",
      "metadata": {
        "id": "oq3HZEfk0Ecd",
        "colab_type": "text"
      },
      "source": [
        "## Output Layer"
      ]
    },
    {
      "cell_type": "markdown",
      "metadata": {
        "id": "-7knzZxi0ZDA",
        "colab_type": "text"
      },
      "source": [
        "The output layer is pretty straight forward. In classification problems, the number of nodes in the output layer should be equal to the number of classes that you are trying to classify. \n",
        "\n",
        "In this problem, we are classifying 10 digits (0, 1, 2, 3, 4, 5, 6, 7 ,8 , 9). Then we will need to add one last Dense layer that contains 10 nodes.\n",
        "\n",
        "```python\n",
        "# add one output Dense layer with 10 nodes\n",
        "model.add(Dense(10, activation = 'softmax'))\n",
        "```"
      ]
    },
    {
      "cell_type": "markdown",
      "metadata": {
        "id": "KOJfCjQe1w-l",
        "colab_type": "text"
      },
      "source": [
        "## Putting it all together"
      ]
    },
    {
      "cell_type": "markdown",
      "metadata": {
        "id": "DvsXxS-a1yM_",
        "colab_type": "text"
      },
      "source": [
        "When we put all these layers together we get the following neural network:\n",
        "\n",
        "<img src='https://github.com/rahiakela/img-repo/blob/master/deep_learning_for_vision_systems/neural-network-architecture.png?raw=1' width='800'/>"
      ]
    },
    {
      "cell_type": "code",
      "metadata": {
        "id": "eKl14CYKwzXG",
        "colab_type": "code",
        "colab": {
          "base_uri": "https://localhost:8080/",
          "height": 301
        },
        "outputId": "4c8120c1-c461-4818-aa74-1338a52fab32"
      },
      "source": [
        "# define the neural network architecture\n",
        "model = Sequential()\n",
        "\n",
        "# add the flatten layer\n",
        "model.add(Flatten(input_shape=(28, 28)))\n",
        "\n",
        "# add two hidden layers with 512 nodes each\n",
        "model.add(Dense(512, activation='relu'))        # it is recommended to use relu activation func in the hidden layers\n",
        "model.add(Dense(512, activation='relu'))\n",
        "\n",
        "# add one output Dense layer with 10 nodes\n",
        "model.add(Dense(10, activation='softmax'))      # it is recommended to use softmax act func in the output layer for multiclass classification problems\n",
        "\n",
        "# print a summary of the model architecture\n",
        "model.summary()"
      ],
      "execution_count": 14,
      "outputs": [
        {
          "output_type": "stream",
          "text": [
            "Model: \"sequential\"\n",
            "_________________________________________________________________\n",
            "Layer (type)                 Output Shape              Param #   \n",
            "=================================================================\n",
            "flatten (Flatten)            (None, 784)               0         \n",
            "_________________________________________________________________\n",
            "dense (Dense)                (None, 512)               401920    \n",
            "_________________________________________________________________\n",
            "dense_1 (Dense)              (None, 512)               262656    \n",
            "_________________________________________________________________\n",
            "dense_2 (Dense)              (None, 10)                5130      \n",
            "=================================================================\n",
            "Total params: 669,706\n",
            "Trainable params: 669,706\n",
            "Non-trainable params: 0\n",
            "_________________________________________________________________\n"
          ],
          "name": "stdout"
        }
      ]
    },
    {
      "cell_type": "markdown",
      "metadata": {
        "id": "Vq9cTqGP3pfe",
        "colab_type": "text"
      },
      "source": [
        "The **Param #** field represents the number of parameters (weights) that are produced at each layer. These are the weights that will be adjusted and learned during the training process.\n",
        "They are calculated as follows:\n",
        "* Params after the flatten layer is 0 because this layer only flattens the image to a vector to be fed to the input layer. The weights haven’t been added yet.\n",
        "* params after layer1 = 784 nodes in input layer X 512 in hidden layer 1 +512 connections to biases = 401,920\n",
        "* params after layer2 = 512 nodes in hidden layer 1 X 512 in hidden layer 2 +512 connections to biases =262,656\n",
        "* params after layer3= 512 nodes in hidden layer 2 X 10 in output layer +10 connections to biases =5,130\n",
        "* total params in the network = 401,920 + 262,656 + 5130 =669,706\n",
        "\n",
        "That said, this means that in this tiny network, we have a total of 669,706 parameters (weights and biases) that the network needs to learn and tune their values to optimize the error function. This is a **huge number for such a small network**. You can see how this number will grow out of control when we add more nodes and layers or when we use bigger images.This is a major drawback of **MLPs**."
      ]
    },
    {
      "cell_type": "markdown",
      "metadata": {
        "id": "odCUp5qT4beR",
        "colab_type": "text"
      },
      "source": [
        "## Drawbacks of MLPs in processing images"
      ]
    },
    {
      "cell_type": "markdown",
      "metadata": {
        "id": "fUZfm_Ij4cdN",
        "colab_type": "text"
      },
      "source": [
        "Let’s discuss the two major problems in MLPs that the Convolutional Networks are designed to fix:\n",
        "\n",
        "**1) Flattening the image to a 1D vector input leads to losing the spatial features of 2D images**\n",
        "\n",
        "Before feeding the image to the hidden layers, we must flatten the image matrix to a 1D vector because MLPs take a flatten vector as an input. Which means throwing away all the 2D information contained in an image. Treating an input as a simple vector of number with no special structure might work well for 1D signals, like the housing price (structured data).\n",
        "\n",
        "But in 2D images, it will lead to information loss because the network doesn’t relate the pixel values to each other when trying to find patterns.\n",
        "\n",
        "**MLPs** have no knowledge of the fact that these pixel numbers were originally spatially arranged in a grid and that they are connected to each other.\n",
        "\n",
        "**CNNs** on the other hand, do not require flattening the image. We can feed\n",
        "the raw image matrix of pixels to our network. This will allow the CNN to understand that pixels that are close to each other are heavily related than the pixels that are far apart.\n",
        "\n",
        "Let’s oversimplify things to learn more about the importance of spatial features in an image. Suppose we are trying to teach our neural network to identify the shape of a square. In the image below, consider the pixel values 1 is white and 0 is black. Then when we draw a white square on a black background, the matrix will look like this:\n",
        "\n",
        "<img src='https://github.com/rahiakela/img-repo/blob/master/deep_learning_for_vision_systems/drawbacks-of-MLP-1.png?raw=1' width='800'/>\n",
        "\n",
        "Since MLPs take 1D vector as an input, then in order to feed the image to the MLP we have to flatten the 2D image to a 1D vector. The input vector of the above image will look like this:\n",
        "\n",
        "Input vector = [1, 1, 0, 0, 1, 1, 0, 0, 0, 0, 0, 0, 0, 0, 0, 0]\n",
        "\n",
        "When the training is complete, the network will learn to identify a square only when the input nodes x1, x2, x5, and x6 are fired. But what happens when we have new images with square shapes but located in different areas in the image?\n",
        "<img src='https://github.com/rahiakela/img-repo/blob/master/deep_learning_for_vision_systems/drawbacks-of-MLP-2.png?raw=1' width='800'/>\n",
        "\n",
        "The MLP will have no idea that these are the shapes of squares because the network didn’t learn the square shape as a feature. Instead, it learned the input nodes that when fired might lead to a square picture. With that said, in order to teach squares to our network we need a lot of square images located everywhere in the image. You can see how this solution won’t scale for complex problems because in order to teach squares to our network we need to feed it images of squares located everywhere in the picture.\n",
        "\n",
        "Another example of feature learning: if we want to teach the network to recognize cats, ideally we want the neural network to learn the full shape of the cat features regardless to where they appear on the image (ears, nose, eyes, etc.). This only happens when the network looks at the image as a set of pixels that when close to each other they are heavily related.\n",
        "<img src='https://github.com/rahiakela/img-repo/blob/master/deep_learning_for_vision_systems/drawbacks-of-MLP-3.png?raw=1' width='800'/>\n",
        "\n",
        "**2) Fully connected (dense) layers**\n",
        "\n",
        "MLPs are composed of Dense layers that are fully connected to each other. Fully\n",
        "connected means that every node in one layer is connected to ALL nodes from the\n",
        "previous layer and all nodes in the next layer. \n",
        "\n",
        "In this scenario, each neuron will have parameters (weights) to train per each neuron from the previous layer. While this was not a big problem for the MNIST dataset because the images are really small in size (28x28), but what happens when we are trying to process bigger images? \n",
        "\n",
        "For example, if we have an image with dimensions = (1,000 x 1,000), it will yield a million parameters for each single node in the first hidden layer. So if the first hidden layer has 1,000 neurons, this will yield a 1 billion parameters in such a small network. \n",
        "\n",
        "You can imagine the computational complexity to optimize 1 billion parameters after only the first layer. This number will drastically increase when we have tens or hundreds of layers. This could get out of control pretty fast and will not scale.\n",
        "\n",
        "**CNNs** on the other hand are locally connected layers. Where there nodes are connected to only a small subset of the previous layers’ nodes. Locally connected layers use far fewer parameters than a densely connected layer as we will see when we discuss CNNs.\n",
        "\n",
        "<img src='https://github.com/rahiakela/img-repo/blob/master/deep_learning_for_vision_systems/drawbacks-of-MLP-4.png?raw=1' width='800'/>\n"
      ]
    },
    {
      "cell_type": "markdown",
      "metadata": {
        "id": "9ufgqj9fCrxS",
        "colab_type": "text"
      },
      "source": [
        "## Conclusion"
      ]
    },
    {
      "cell_type": "markdown",
      "metadata": {
        "id": "-n6V2Ti_CwVr",
        "colab_type": "text"
      },
      "source": [
        "The loss of information caused by flattening the 2D image matrix to a 1D vector and the computational complexity of fully connected layers with larger images suggest that we need an entirely new way of processing the image input where the 2D information is not entirely lost. This is where Convolutional Networks come in. CNNs accept the full image matrix as an input which helps the network significantly understand the pattern contained in the pixel values."
      ]
    }
  ]
}