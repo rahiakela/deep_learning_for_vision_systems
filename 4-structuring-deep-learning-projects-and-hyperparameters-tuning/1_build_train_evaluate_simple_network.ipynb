{
  "nbformat": 4,
  "nbformat_minor": 0,
  "metadata": {
    "colab": {
      "name": "1-build-train-evaluate-simple-network.ipynb",
      "provenance": [],
      "toc_visible": true,
      "authorship_tag": "ABX9TyNfP2mwkE19xQ/5wjzaaJBi",
      "include_colab_link": true
    },
    "kernelspec": {
      "name": "python3",
      "display_name": "Python 3"
    }
  },
  "cells": [
    {
      "cell_type": "markdown",
      "metadata": {
        "id": "view-in-github",
        "colab_type": "text"
      },
      "source": [
        "<a href=\"https://colab.research.google.com/github/rahiakela/deep_learning_for_vision_systems/blob/4-structuring-deep-learning-projects-and-hyperparameters-tuning/1_build_train_evaluate_simple_network.ipynb\" target=\"_parent\"><img src=\"https://colab.research.google.com/assets/colab-badge.svg\" alt=\"Open In Colab\"/></a>"
      ]
    },
    {
      "cell_type": "markdown",
      "metadata": {
        "id": "aY5tjxigCvDo",
        "colab_type": "text"
      },
      "source": [
        "# Build, train and evaluate a simple network"
      ]
    },
    {
      "cell_type": "markdown",
      "metadata": {
        "id": "tKLX0RDADHz8",
        "colab_type": "text"
      },
      "source": [
        "Before we move on to the hyperparameter tuning section, let’s run a quick experiment to see how we split the data, build, train and visualize the model results.\n",
        "\n",
        "In this exercise we will do the following:\n",
        "* Create toy data for our experiment\n",
        "* Split the data into 80% training and 20% testing datasets\n",
        "* Build the MLP neural network\n",
        "* Train the model\n",
        "* Evaluate the model\n",
        "* Visualize the results"
      ]
    },
    {
      "cell_type": "markdown",
      "metadata": {
        "id": "nCz4_RMMDY7T",
        "colab_type": "text"
      },
      "source": [
        "## Setup"
      ]
    },
    {
      "cell_type": "code",
      "metadata": {
        "id": "FSGGcRw_DVsW",
        "colab_type": "code",
        "colab": {}
      },
      "source": [
        "from __future__ import absolute_import, division, print_function, unicode_literals\n",
        "\n",
        "try:\n",
        "  # %tensorflow_version only exists in Colab.\n",
        "  %tensorflow_version 2.x\n",
        "except Exception:\n",
        "  pass\n",
        "import tensorflow as tf\n",
        "from tensorflow import keras\n",
        "import numpy as np\n",
        "import pandas as pd\n",
        "\n",
        "from tensorflow.keras.models import Sequential\n",
        "from tensorflow.keras.layers import Dense\n",
        "\n",
        "from tensorflow.keras.utils import to_categorical\n",
        "\n",
        "from sklearn.datasets.samples_generator import make_blobs\n",
        "\n",
        "import matplotlib.pyplot as plt"
      ],
      "execution_count": 0,
      "outputs": []
    },
    {
      "cell_type": "markdown",
      "metadata": {
        "id": "vxWsj8hhEP2d",
        "colab_type": "text"
      },
      "source": [
        "## Data preparation"
      ]
    },
    {
      "cell_type": "code",
      "metadata": {
        "id": "I603EgsgDc_j",
        "colab_type": "code",
        "colab": {
          "base_uri": "https://localhost:8080/",
          "height": 195
        },
        "outputId": "9c075237-cdb9-4724-c5c9-5d6df96bb72b"
      },
      "source": [
        "# generate a toy dataset of only two features and four label classes\n",
        "X, y  = make_blobs(n_samples=1000, centers=4, n_features=2, cluster_std=2, random_state=42)\n",
        "X[:10]"
      ],
      "execution_count": 3,
      "outputs": [
        {
          "output_type": "execute_result",
          "data": {
            "text/plain": [
              "array([[-8.27175201,  6.80571297],\n",
              "       [-5.39543645, -6.28152443],\n",
              "       [-5.76297337, -6.72809881],\n",
              "       [ 3.72115704,  0.27348095],\n",
              "       [ 4.12069613, -1.03311622],\n",
              "       [-6.76560094, -6.34292504],\n",
              "       [ 5.40027454,  3.19434117],\n",
              "       [-5.04697184, -6.18713264],\n",
              "       [-6.43179892, -4.15182873],\n",
              "       [ 7.05289677,  0.33929834]])"
            ]
          },
          "metadata": {
            "tags": []
          },
          "execution_count": 3
        }
      ]
    },
    {
      "cell_type": "code",
      "metadata": {
        "id": "i_w96IVCEhc7",
        "colab_type": "code",
        "colab": {
          "base_uri": "https://localhost:8080/",
          "height": 35
        },
        "outputId": "fef221fa-48de-48c4-ea7d-8349776912b5"
      },
      "source": [
        "y[:10]"
      ],
      "execution_count": 4,
      "outputs": [
        {
          "output_type": "execute_result",
          "data": {
            "text/plain": [
              "array([3, 2, 2, 1, 1, 2, 1, 2, 2, 1])"
            ]
          },
          "metadata": {
            "tags": []
          },
          "execution_count": 4
        }
      ]
    },
    {
      "cell_type": "code",
      "metadata": {
        "id": "tsQOg4szEjCc",
        "colab_type": "code",
        "colab": {
          "base_uri": "https://localhost:8080/",
          "height": 195
        },
        "outputId": "c9a78976-36f0-46b1-b47e-5506dccb48ee"
      },
      "source": [
        "# one-hot encode for output variable\n",
        "y = to_categorical(y)\n",
        "y[:10]"
      ],
      "execution_count": 5,
      "outputs": [
        {
          "output_type": "execute_result",
          "data": {
            "text/plain": [
              "array([[0., 0., 0., 1.],\n",
              "       [0., 0., 1., 0.],\n",
              "       [0., 0., 1., 0.],\n",
              "       [0., 1., 0., 0.],\n",
              "       [0., 1., 0., 0.],\n",
              "       [0., 0., 1., 0.],\n",
              "       [0., 1., 0., 0.],\n",
              "       [0., 0., 1., 0.],\n",
              "       [0., 0., 1., 0.],\n",
              "       [0., 1., 0., 0.]], dtype=float32)"
            ]
          },
          "metadata": {
            "tags": []
          },
          "execution_count": 5
        }
      ]
    },
    {
      "cell_type": "code",
      "metadata": {
        "id": "odbjbBW3EznG",
        "colab_type": "code",
        "colab": {
          "base_uri": "https://localhost:8080/",
          "height": 35
        },
        "outputId": "a9e22607-2415-4862-c3f4-3ab4b0fe4089"
      },
      "source": [
        "# split into 80% training data and 20% test data \n",
        "# note that we did not create a validation dataset in this example for simplicity\n",
        "n_train = 200\n",
        "trainX, testX = X[:n_train, :], X[n_train:, :]\n",
        "trainy, testy = y[:n_train], y[n_train:]\n",
        "print(trainX.shape, testX.shape) "
      ],
      "execution_count": 7,
      "outputs": [
        {
          "output_type": "stream",
          "text": [
            "(200, 2) (800, 2)\n"
          ],
          "name": "stdout"
        }
      ]
    },
    {
      "cell_type": "markdown",
      "metadata": {
        "id": "zaU1VoG_G31Z",
        "colab_type": "text"
      },
      "source": [
        "## baseline model architecture"
      ]
    },
    {
      "cell_type": "code",
      "metadata": {
        "id": "8Emfic8FG49Q",
        "colab_type": "code",
        "colab": {
          "base_uri": "https://localhost:8080/",
          "height": 230
        },
        "outputId": "97b9bd14-3260-4ef5-ebb5-7f164e9d19bb"
      },
      "source": [
        "# develop the baseline model architecture\n",
        "# here we are building a very simple, two-layer network\n",
        "model = Sequential()\n",
        "model.add(Dense(25, input_dim=2, activation='relu'))\n",
        "model.add(Dense(4, activation='softmax'))  # four hidden units because we have 4 label classes\n",
        "\n",
        "# compile the model\n",
        "model.compile(loss='categorical_crossentropy', optimizer='adam', metrics=['accuracy'])\n",
        "model.summary()"
      ],
      "execution_count": 9,
      "outputs": [
        {
          "output_type": "stream",
          "text": [
            "Model: \"sequential_1\"\n",
            "_________________________________________________________________\n",
            "Layer (type)                 Output Shape              Param #   \n",
            "=================================================================\n",
            "dense_2 (Dense)              (None, 25)                75        \n",
            "_________________________________________________________________\n",
            "dense_3 (Dense)              (None, 4)                 104       \n",
            "=================================================================\n",
            "Total params: 179\n",
            "Trainable params: 179\n",
            "Non-trainable params: 0\n",
            "_________________________________________________________________\n"
          ],
          "name": "stdout"
        }
      ]
    },
    {
      "cell_type": "code",
      "metadata": {
        "id": "xkRmWfooFavA",
        "colab_type": "code",
        "colab": {}
      },
      "source": [
        "# train the model\n",
        "history = model.fit(trainX, trainy, validation_data=(testX, testy), epochs=500, verbose=1)"
      ],
      "execution_count": 0,
      "outputs": []
    },
    {
      "cell_type": "code",
      "metadata": {
        "id": "OTvwqPgvH1L5",
        "colab_type": "code",
        "colab": {
          "base_uri": "https://localhost:8080/",
          "height": 35
        },
        "outputId": "96ad9ab8-e20c-4e92-ae28-47a844d36aa8"
      },
      "source": [
        "# evaluate the model\n",
        "_, train_acc = model.evaluate(trainX, trainy, verbose=0)\n",
        "_, test_acc = model.evaluate(testX, testy, verbose=0)\n",
        "print(f'Train: {str(train_acc)}, Test: {str(test_acc)}')"
      ],
      "execution_count": 11,
      "outputs": [
        {
          "output_type": "stream",
          "text": [
            "Train: 0.99, Test: 0.955\n"
          ],
          "name": "stdout"
        }
      ]
    },
    {
      "cell_type": "code",
      "metadata": {
        "id": "Bc8GHubJIXjV",
        "colab_type": "code",
        "colab": {
          "base_uri": "https://localhost:8080/",
          "height": 281
        },
        "outputId": "760468b9-adbf-43cb-e9bd-522233fba892"
      },
      "source": [
        "# plot learning curves of model accuracy\n",
        "plt.plot(history.history['accuracy'], label='train accuracy')\n",
        "plt.plot(history.history['val_accuracy'], label='validation accuracy')\n",
        "plt.title('Training and Validation Accuracy')\n",
        "plt.legend()\n",
        "plt.show()"
      ],
      "execution_count": 15,
      "outputs": [
        {
          "output_type": "display_data",
          "data": {
            "image/png": "[encoded data removed]",
            "text/plain": [
              "<Figure size 432x288 with 1 Axes>"
            ]
          },
          "metadata": {
            "tags": []
          }
        }
      ]
    },
    {
      "cell_type": "code",
      "metadata": {
        "id": "tJo-lyldI3FG",
        "colab_type": "code",
        "colab": {
          "base_uri": "https://localhost:8080/",
          "height": 281
        },
        "outputId": "34290165-c6c5-4e74-ebb3-cfcd1b490aee"
      },
      "source": [
        "plt.plot(history.history['loss'], label='train loss')\n",
        "plt.plot(history.history['val_loss'], label='validation loss')\n",
        "plt.title('Training and Validation Loss')\n",
        "plt.legend()\n",
        "plt.show()"
      ],
      "execution_count": 16,
      "outputs": [
        {
          "output_type": "display_data",
          "data": {
            "image/png": "[encoded data removed]",
            "text/plain": [
              "<Figure size 432x288 with 1 Axes>"
            ]
          },
          "metadata": {
            "tags": []
          }
        }
      ]
    },
    {
      "cell_type": "markdown",
      "metadata": {
        "id": "WWArSvIFJuJx",
        "colab_type": "text"
      },
      "source": [
        "## Network analysis"
      ]
    },
    {
      "cell_type": "markdown",
      "metadata": {
        "id": "5mz1KKrkJvCa",
        "colab_type": "text"
      },
      "source": [
        "Looking at the above learning curve, you can see that both train and test curves are fitting the data with a similar behavior. This means that the network is not overfitting. \n",
        "\n",
        "The network would have been overfitting if the train curve is doing well but the test curve is not. But in this case the network is not overfitting. Could it be underfitting? Maybe. 82% on a very simple dataset like this is considered a poor performance. \n",
        "\n",
        "To improve the performance of this neural network, I would try to build a more complex network and experiment with other underfitting techniques."
      ]
    }
  ]
}