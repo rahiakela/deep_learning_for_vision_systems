{
  "nbformat": 4,
  "nbformat_minor": 0,
  "metadata": {
    "colab": {
      "name": "2-pretrained-network-as-feature-extractor.ipynb",
      "provenance": [],
      "toc_visible": true,
      "authorship_tag": "ABX9TyOFrxZlGBAFtmvHOECA2x/B",
      "include_colab_link": true
    },
    "kernelspec": {
      "name": "python3",
      "display_name": "Python 3"
    },
    "accelerator": "GPU"
  },
  "cells": [
    {
      "cell_type": "markdown",
      "metadata": {
        "id": "view-in-github",
        "colab_type": "text"
      },
      "source": [
        "<a href=\"https://colab.research.google.com/github/rahiakela/deep_learning_for_vision_systems/blob/6-transfer-learning/2_pretrained_network_as_feature_extractor.ipynb\" target=\"_parent\"><img src=\"https://colab.research.google.com/assets/colab-badge.svg\" alt=\"Open In Colab\"/></a>"
      ]
    },
    {
      "cell_type": "markdown",
      "metadata": {
        "id": "jMpv3TSD3uRH",
        "colab_type": "text"
      },
      "source": [
        "# Transfer learning approaches"
      ]
    },
    {
      "cell_type": "markdown",
      "metadata": {
        "id": "TMG5KpwN35r_",
        "colab_type": "text"
      },
      "source": [
        "There are three major transfer learning approaches as follows:\n",
        "\n",
        "1. Pretrained network as a classifier\n",
        "2. Pretrained network as feature extractor\n",
        "3. Fine tuning\n",
        "\n",
        "Each approach can be effective and save significant time in developing and training a deep convolutional neural network model. It may not be clear as to which usage of the pre-trained model may yield the best results on your new computer vision task, therefore some experimentation may be required."
      ]
    },
    {
      "cell_type": "markdown",
      "metadata": {
        "id": "YySxJqGD4IxX",
        "colab_type": "text"
      },
      "source": [
        "## Setup"
      ]
    },
    {
      "cell_type": "code",
      "metadata": {
        "id": "PgdfWvDu4MxF",
        "colab_type": "code",
        "colab": {}
      },
      "source": [
        "from __future__ import absolute_import, division, print_function, unicode_literals\n",
        "\n",
        "try:\n",
        "  # %tensorflow_version only exists in Colab.\n",
        "  %tensorflow_version 2.x\n",
        "except Exception:\n",
        "  pass\n",
        "import tensorflow as tf\n",
        "from tensorflow import keras\n",
        "\n",
        "from tensorflow.keras.models import Model\n",
        "from tensorflow.keras.layers import Dense, Flatten, Dropout, BatchNormalization\n",
        "from tensorflow.keras.preprocessing.image import ImageDataGenerator, load_img, img_to_array\n",
        "from tensorflow.keras.applications import mobilenet, imagenet_utils\n",
        "from tensorflow.keras.applications.vgg16 import VGG16, preprocess_input\n",
        "from tensorflow.keras.optimizers import Adam, SGD\n",
        "from tensorflow.keras.metrics import CategoricalCrossentropy\n",
        "from tensorflow.keras.utils import to_categorical\n",
        "import tensorflow.keras.backend as K\n",
        "\n",
        "from sklearn.metrics import confusion_matrix\n",
        "from sklearn.datasets import load_files\n",
        "\n",
        "import numpy as np\n",
        "import itertools\n",
        "from tqdm import tqdm\n",
        "\n",
        "import matplotlib.pyplot as plt\n",
        "%matplotlib inline"
      ],
      "execution_count": 22,
      "outputs": []
    },
    {
      "cell_type": "markdown",
      "metadata": {
        "id": "1RG6oBhc4N8T",
        "colab_type": "text"
      },
      "source": [
        "## Pretrained network as a feature extractor"
      ]
    },
    {
      "cell_type": "markdown",
      "metadata": {
        "id": "0dGNlsjA4Ovi",
        "colab_type": "text"
      },
      "source": [
        "We are going to use a very small amount of data to train a classifier that\n",
        "detects dogs and cats. This is a pretty simple project but the goal of this exercise is to see how to implement transfer learning when you have a very small amount of data where the target domain is similar to the source domain\n",
        "\n",
        "In this case, we are going to use the pretrained convolutional network as a feature extractor. This means that we are going to freeze the feature extractor part of the network and add our own classifier then retrain the network on our new small dataset.\n",
        "\n",
        "One other important takeaway from this project is to learn how to preprocess custom data and make it ready to train your neural network. In previous projects, we used CIFAR and MNIST datasets which are already preprocessed for us by Keras and all we had to do is to download it from Keras library and directly use them to train the network. In this project, I’m going to show a tutorial on how to structure your data repository and use Keras library to get your data ready.\n",
        "\n",
        "For this implementation, we’ll be using the VGG16. Although it didn’t record the lowest error in the ILSVRC, I found it worked well for the task and was quicker to train than other models. I got an accuracy of about 96% but you can feel free to use GoogLeNet or ResNet for experimentation and compare results.\n",
        "\n",
        "The process to use a pretrained model as a feature extractor is well-established:\n",
        "\n",
        "1. Preprocess the data to make it ready for the neural network.\n",
        "2. Load in pretrained weights from the VGG16 network trained on a large dataset.\n",
        "3. Freeze all the weights in the convolutional layers (feature extraction part). Remember - the layers to freeze are adjusted depending on the similarity of new task to original dataset. In our case, we observed that ImageNet has a lot of dogs and cats images so the network has already been trained to extract the detailed features of our target object.\n",
        "\n",
        "4. Replace the fully-connected layers of the network with a custom classifier. You can add as many FC layers as you see fit and each have as many hidden units as you want. For simple problem like this, we are just going to add one hidden layer with 64 units. You can observe the results and tune up if the model is underfitting or down if the model is overfitting. For the softmax layer, the number of units must be set equal to the number of classes (2 units in our case).\n",
        "5. Compile the network and run the training process on the new data of cats and dogs to optimize the model for the smaller dataset.\n",
        "6. Evaluate the model.\n",
        "\n",
        "Now let’s go through these steps one-by-one and implement this project."
      ]
    },
    {
      "cell_type": "markdown",
      "metadata": {
        "id": "iz2bkMrO6OAX",
        "colab_type": "text"
      },
      "source": [
        "## 1- Preprocess the data to make it ready for the neural network"
      ]
    },
    {
      "cell_type": "markdown",
      "metadata": {
        "id": "il31CNuPPfxn",
        "colab_type": "text"
      },
      "source": [
        "Keras has this ImageDataGenerator class which allows us to perform image augmentation on the fly in a very easy way. You can read about that in Keras’s official [documentation](https://keras.io/api/preprocessing/image/). In this example, we are going to use the ImageDataGenerator class to generate our image tensors but we are not going to implement image augmentation for simplicity.\n",
        "\n",
        "The ImageDataGenerator class has a method called flow_from_directory() that is used to read the images from folders containing images. This method expects your data directory to be structured as follows:\n",
        "\n",
        "<img src='https://github.com/rahiakela/img-repo/blob/master/deep_learning_for_vision_systems/directory-structure.png?raw=1' width='800'/>\n",
        "\n",
        "I have the data structured for you in the Github repo to be ready for you to use\n",
        "flow_from_directory() method."
      ]
    },
    {
      "cell_type": "code",
      "metadata": {
        "id": "LnFrq1oE6AMY",
        "colab_type": "code",
        "colab": {
          "base_uri": "https://localhost:8080/",
          "height": 141
        },
        "outputId": "e2a4af5d-ce40-4b92-8818-2cc2d3da0b37"
      },
      "source": [
        "# download dataset\n",
        "! git clone https://github.com/rahiakela/machine-learning-datasets -b dogs_vs_cats_dataset"
      ],
      "execution_count": 2,
      "outputs": [
        {
          "output_type": "stream",
          "text": [
            "Cloning into 'machine-learning-datasets'...\n",
            "remote: Enumerating objects: 2017, done.\u001b[K\n",
            "remote: Counting objects: 100% (2017/2017), done.\u001b[K\n",
            "remote: Compressing objects: 100% (2016/2016), done.\u001b[K\n",
            "remote: Total 2017 (delta 2), reused 2015 (delta 0), pack-reused 0\u001b[K\n",
            "Receiving objects: 100% (2017/2017), 20.80 MiB | 15.38 MiB/s, done.\n",
            "Resolving deltas: 100% (2/2), done.\n"
          ],
          "name": "stdout"
        }
      ]
    },
    {
      "cell_type": "code",
      "metadata": {
        "id": "QWklkUXAWg1X",
        "colab_type": "code",
        "colab": {
          "base_uri": "https://localhost:8080/",
          "height": 35
        },
        "outputId": "4465e031-41d9-4a40-f027-ebe573bd1b4f"
      },
      "source": [
        "!ls"
      ],
      "execution_count": 3,
      "outputs": [
        {
          "output_type": "stream",
          "text": [
            "machine-learning-datasets  sample_data\n"
          ],
          "name": "stdout"
        }
      ]
    },
    {
      "cell_type": "code",
      "metadata": {
        "id": "cBHl95m8WxE-",
        "colab_type": "code",
        "colab": {}
      },
      "source": [
        "import zipfile\n",
        "\n",
        "# Unzipping files\n",
        "zip_file = \"machine-learning-datasets/dogs_vs_cats_dataset.zip\"\n",
        "with zipfile.ZipFile(zip_file, 'r') as zip_ref:\n",
        "    zip_ref.extractall(\".\")"
      ],
      "execution_count": 4,
      "outputs": []
    },
    {
      "cell_type": "markdown",
      "metadata": {
        "id": "D9RMN6Ax6hgx",
        "colab_type": "text"
      },
      "source": [
        "Now, let’s load the data into train_path, valid_path, and\n",
        "test_path variables then generate the train, valid, and test batches:"
      ]
    },
    {
      "cell_type": "code",
      "metadata": {
        "id": "LX_MPeVM6iIP",
        "colab_type": "code",
        "colab": {
          "base_uri": "https://localhost:8080/",
          "height": 70
        },
        "outputId": "4c7d7062-4c57-4a03-9120-920f4db75ca6"
      },
      "source": [
        "train_path  = 'dogs_vs_cats_dataset/data/train'\n",
        "valid_path  = 'dogs_vs_cats_dataset/data/valid'\n",
        "test_path  = 'dogs_vs_cats_dataset/data/test'\n",
        "\n",
        "# ImageDataGenerator generates batches of tensor image data with real-time data augmentation.\n",
        "# The data will be looped over (in batches). in this example, we won't be doing any image augmentation\n",
        "train_batches = ImageDataGenerator(preprocessing_function=preprocess_input).flow_from_directory(train_path, target_size=(224, 224), batch_size=30)\n",
        "valid_batches = ImageDataGenerator(preprocessing_function=preprocess_input).flow_from_directory(valid_path, target_size=(224, 224), batch_size=30)\n",
        "test_batches  = ImageDataGenerator(preprocessing_function=preprocess_input).flow_from_directory(test_path, target_size=(224, 224), batch_size=30)"
      ],
      "execution_count": 5,
      "outputs": [
        {
          "output_type": "stream",
          "text": [
            "Found 202 images belonging to 2 classes.\n",
            "Found 103 images belonging to 2 classes.\n",
            "Found 451 images belonging to 2 classes.\n"
          ],
          "name": "stdout"
        }
      ]
    },
    {
      "cell_type": "markdown",
      "metadata": {
        "id": "ykaSCoul7hX7",
        "colab_type": "text"
      },
      "source": [
        "## 2- Download VGGNet and create network"
      ]
    },
    {
      "cell_type": "markdown",
      "metadata": {
        "id": "RhoBcr0fdKZK",
        "colab_type": "text"
      },
      "source": [
        "We are going to download the VGG16 network from Keras and download it’s weights after being pretrained on ImageNet dataset. Remember that we want to remove the classifier part from this network so we will set the parameter include_top=False.\n",
        "\n",
        "<img src='https://github.com/rahiakela/img-repo/blob/master/deep_learning_for_vision_systems/transfer_network.png?raw=1' width='800'/>\n"
      ]
    },
    {
      "cell_type": "code",
      "metadata": {
        "id": "3xM1gORw7h7N",
        "colab_type": "code",
        "colab": {
          "base_uri": "https://localhost:8080/",
          "height": 870
        },
        "outputId": "5331135f-a454-4400-be4e-169884a586da"
      },
      "source": [
        "base_model = VGG16(weights=\"imagenet\", include_top=False, input_shape=(224, 224, 3))\n",
        "base_model.summary()"
      ],
      "execution_count": 6,
      "outputs": [
        {
          "output_type": "stream",
          "text": [
            "Downloading data from https://storage.googleapis.com/tensorflow/keras-applications/vgg16/vgg16_weights_tf_dim_ordering_tf_kernels_notop.h5\n",
            "58892288/58889256 [==============================] - 1s 0us/step\n",
            "Model: \"vgg16\"\n",
            "_________________________________________________________________\n",
            "Layer (type)                 Output Shape              Param #   \n",
            "=================================================================\n",
            "input_1 (InputLayer)         [(None, 224, 224, 3)]     0         \n",
            "_________________________________________________________________\n",
            "block1_conv1 (Conv2D)        (None, 224, 224, 64)      1792      \n",
            "_________________________________________________________________\n",
            "block1_conv2 (Conv2D)        (None, 224, 224, 64)      36928     \n",
            "_________________________________________________________________\n",
            "block1_pool (MaxPooling2D)   (None, 112, 112, 64)      0         \n",
            "_________________________________________________________________\n",
            "block2_conv1 (Conv2D)        (None, 112, 112, 128)     73856     \n",
            "_________________________________________________________________\n",
            "block2_conv2 (Conv2D)        (None, 112, 112, 128)     147584    \n",
            "_________________________________________________________________\n",
            "block2_pool (MaxPooling2D)   (None, 56, 56, 128)       0         \n",
            "_________________________________________________________________\n",
            "block3_conv1 (Conv2D)        (None, 56, 56, 256)       295168    \n",
            "_________________________________________________________________\n",
            "block3_conv2 (Conv2D)        (None, 56, 56, 256)       590080    \n",
            "_________________________________________________________________\n",
            "block3_conv3 (Conv2D)        (None, 56, 56, 256)       590080    \n",
            "_________________________________________________________________\n",
            "block3_pool (MaxPooling2D)   (None, 28, 28, 256)       0         \n",
            "_________________________________________________________________\n",
            "block4_conv1 (Conv2D)        (None, 28, 28, 512)       1180160   \n",
            "_________________________________________________________________\n",
            "block4_conv2 (Conv2D)        (None, 28, 28, 512)       2359808   \n",
            "_________________________________________________________________\n",
            "block4_conv3 (Conv2D)        (None, 28, 28, 512)       2359808   \n",
            "_________________________________________________________________\n",
            "block4_pool (MaxPooling2D)   (None, 14, 14, 512)       0         \n",
            "_________________________________________________________________\n",
            "block5_conv1 (Conv2D)        (None, 14, 14, 512)       2359808   \n",
            "_________________________________________________________________\n",
            "block5_conv2 (Conv2D)        (None, 14, 14, 512)       2359808   \n",
            "_________________________________________________________________\n",
            "block5_conv3 (Conv2D)        (None, 14, 14, 512)       2359808   \n",
            "_________________________________________________________________\n",
            "block5_pool (MaxPooling2D)   (None, 7, 7, 512)         0         \n",
            "=================================================================\n",
            "Total params: 14,714,688\n",
            "Trainable params: 14,714,688\n",
            "Non-trainable params: 0\n",
            "_________________________________________________________________\n"
          ],
          "name": "stdout"
        }
      ]
    },
    {
      "cell_type": "markdown",
      "metadata": {
        "id": "KL40vydf8ZEd",
        "colab_type": "text"
      },
      "source": [
        "## 3- Freeze all the weights in the convolutional layers"
      ]
    },
    {
      "cell_type": "markdown",
      "metadata": {
        "id": "OB7K6UFJeR6f",
        "colab_type": "text"
      },
      "source": [
        "We will freeze the convolutional layers from the base_model created from the previous step and use that as a feature extractor, then add a classifier on top of it in the next step."
      ]
    },
    {
      "cell_type": "code",
      "metadata": {
        "id": "mPoKD98m8Nvs",
        "colab_type": "code",
        "colab": {}
      },
      "source": [
        "# iterate through its layers and lock them to make them not trainable\n",
        "for layer in base_model.layers:\n",
        "  layer.trainable = False"
      ],
      "execution_count": 7,
      "outputs": []
    },
    {
      "cell_type": "code",
      "metadata": {
        "id": "1lpXCBGie8y5",
        "colab_type": "code",
        "colab": {
          "base_uri": "https://localhost:8080/",
          "height": 835
        },
        "outputId": "17aaea14-34be-4ef1-af24-5648d4f6aa9b"
      },
      "source": [
        "base_model.summary()"
      ],
      "execution_count": 8,
      "outputs": [
        {
          "output_type": "stream",
          "text": [
            "Model: \"vgg16\"\n",
            "_________________________________________________________________\n",
            "Layer (type)                 Output Shape              Param #   \n",
            "=================================================================\n",
            "input_1 (InputLayer)         [(None, 224, 224, 3)]     0         \n",
            "_________________________________________________________________\n",
            "block1_conv1 (Conv2D)        (None, 224, 224, 64)      1792      \n",
            "_________________________________________________________________\n",
            "block1_conv2 (Conv2D)        (None, 224, 224, 64)      36928     \n",
            "_________________________________________________________________\n",
            "block1_pool (MaxPooling2D)   (None, 112, 112, 64)      0         \n",
            "_________________________________________________________________\n",
            "block2_conv1 (Conv2D)        (None, 112, 112, 128)     73856     \n",
            "_________________________________________________________________\n",
            "block2_conv2 (Conv2D)        (None, 112, 112, 128)     147584    \n",
            "_________________________________________________________________\n",
            "block2_pool (MaxPooling2D)   (None, 56, 56, 128)       0         \n",
            "_________________________________________________________________\n",
            "block3_conv1 (Conv2D)        (None, 56, 56, 256)       295168    \n",
            "_________________________________________________________________\n",
            "block3_conv2 (Conv2D)        (None, 56, 56, 256)       590080    \n",
            "_________________________________________________________________\n",
            "block3_conv3 (Conv2D)        (None, 56, 56, 256)       590080    \n",
            "_________________________________________________________________\n",
            "block3_pool (MaxPooling2D)   (None, 28, 28, 256)       0         \n",
            "_________________________________________________________________\n",
            "block4_conv1 (Conv2D)        (None, 28, 28, 512)       1180160   \n",
            "_________________________________________________________________\n",
            "block4_conv2 (Conv2D)        (None, 28, 28, 512)       2359808   \n",
            "_________________________________________________________________\n",
            "block4_conv3 (Conv2D)        (None, 28, 28, 512)       2359808   \n",
            "_________________________________________________________________\n",
            "block4_pool (MaxPooling2D)   (None, 14, 14, 512)       0         \n",
            "_________________________________________________________________\n",
            "block5_conv1 (Conv2D)        (None, 14, 14, 512)       2359808   \n",
            "_________________________________________________________________\n",
            "block5_conv2 (Conv2D)        (None, 14, 14, 512)       2359808   \n",
            "_________________________________________________________________\n",
            "block5_conv3 (Conv2D)        (None, 14, 14, 512)       2359808   \n",
            "_________________________________________________________________\n",
            "block5_pool (MaxPooling2D)   (None, 7, 7, 512)         0         \n",
            "=================================================================\n",
            "Total params: 14,714,688\n",
            "Trainable params: 0\n",
            "Non-trainable params: 14,714,688\n",
            "_________________________________________________________________\n"
          ],
          "name": "stdout"
        }
      ]
    },
    {
      "cell_type": "markdown",
      "metadata": {
        "id": "VuDYmu8JfVTz",
        "colab_type": "text"
      },
      "source": [
        "## 4- Replace the fully-connected layers of the network with a custom classifier"
      ]
    },
    {
      "cell_type": "markdown",
      "metadata": {
        "id": "uZfjbI8jfXDE",
        "colab_type": "text"
      },
      "source": [
        "Now let's add a few layers on top of the base model. In this example, we will add one FC layer with 64 hidden units and a softmax with 2 hidden units. We will also add batch norm and dropout layers to avoid overfitting."
      ]
    },
    {
      "cell_type": "code",
      "metadata": {
        "id": "iDGWWpTNfDZI",
        "colab_type": "code",
        "colab": {
          "base_uri": "https://localhost:8080/",
          "height": 1000
        },
        "outputId": "fb9a49ce-0beb-486b-cbaf-01e3d94ce519"
      },
      "source": [
        "# use “get_layer” method to save the last layer of the network\n",
        "# save the output of the last layer to be the input of the next layer\n",
        "last_layer = base_model.get_layer('block5_pool')\n",
        "last_output = last_layer.output\n",
        "\n",
        "# flatten the classifier input which is output of the last layer of VGG16 model\n",
        "x = Flatten()(last_output)\n",
        "\n",
        "# add 1 FC layers that has 64 units, batchnorm, dropout, and softmax layers\n",
        "x = Dense(64, activation='relu', name='FC_2')(x)\n",
        "x = BatchNormalization()(x)\n",
        "x = Dropout(0.5)(x)\n",
        "# add our new softmax layer with 3 hidden units\n",
        "x = Dense(2, activation='softmax', name='softmax')(x)\n",
        "\n",
        "# instantiate a new_model using keras’s Model class\n",
        "new_model = Model(inputs=base_model.input, outputs=x)\n",
        "new_model.summary()"
      ],
      "execution_count": 11,
      "outputs": [
        {
          "output_type": "stream",
          "text": [
            "Model: \"functional_3\"\n",
            "_________________________________________________________________\n",
            "Layer (type)                 Output Shape              Param #   \n",
            "=================================================================\n",
            "input_1 (InputLayer)         [(None, 224, 224, 3)]     0         \n",
            "_________________________________________________________________\n",
            "block1_conv1 (Conv2D)        (None, 224, 224, 64)      1792      \n",
            "_________________________________________________________________\n",
            "block1_conv2 (Conv2D)        (None, 224, 224, 64)      36928     \n",
            "_________________________________________________________________\n",
            "block1_pool (MaxPooling2D)   (None, 112, 112, 64)      0         \n",
            "_________________________________________________________________\n",
            "block2_conv1 (Conv2D)        (None, 112, 112, 128)     73856     \n",
            "_________________________________________________________________\n",
            "block2_conv2 (Conv2D)        (None, 112, 112, 128)     147584    \n",
            "_________________________________________________________________\n",
            "block2_pool (MaxPooling2D)   (None, 56, 56, 128)       0         \n",
            "_________________________________________________________________\n",
            "block3_conv1 (Conv2D)        (None, 56, 56, 256)       295168    \n",
            "_________________________________________________________________\n",
            "block3_conv2 (Conv2D)        (None, 56, 56, 256)       590080    \n",
            "_________________________________________________________________\n",
            "block3_conv3 (Conv2D)        (None, 56, 56, 256)       590080    \n",
            "_________________________________________________________________\n",
            "block3_pool (MaxPooling2D)   (None, 28, 28, 256)       0         \n",
            "_________________________________________________________________\n",
            "block4_conv1 (Conv2D)        (None, 28, 28, 512)       1180160   \n",
            "_________________________________________________________________\n",
            "block4_conv2 (Conv2D)        (None, 28, 28, 512)       2359808   \n",
            "_________________________________________________________________\n",
            "block4_conv3 (Conv2D)        (None, 28, 28, 512)       2359808   \n",
            "_________________________________________________________________\n",
            "block4_pool (MaxPooling2D)   (None, 14, 14, 512)       0         \n",
            "_________________________________________________________________\n",
            "block5_conv1 (Conv2D)        (None, 14, 14, 512)       2359808   \n",
            "_________________________________________________________________\n",
            "block5_conv2 (Conv2D)        (None, 14, 14, 512)       2359808   \n",
            "_________________________________________________________________\n",
            "block5_conv3 (Conv2D)        (None, 14, 14, 512)       2359808   \n",
            "_________________________________________________________________\n",
            "block5_pool (MaxPooling2D)   (None, 7, 7, 512)         0         \n",
            "_________________________________________________________________\n",
            "flatten_1 (Flatten)          (None, 25088)             0         \n",
            "_________________________________________________________________\n",
            "FC_2 (Dense)                 (None, 64)                1605696   \n",
            "_________________________________________________________________\n",
            "batch_normalization_1 (Batch (None, 64)                256       \n",
            "_________________________________________________________________\n",
            "dropout (Dropout)            (None, 64)                0         \n",
            "_________________________________________________________________\n",
            "softmax (Dense)              (None, 2)                 130       \n",
            "=================================================================\n",
            "Total params: 16,320,770\n",
            "Trainable params: 1,605,954\n",
            "Non-trainable params: 14,714,816\n",
            "_________________________________________________________________\n"
          ],
          "name": "stdout"
        }
      ]
    },
    {
      "cell_type": "markdown",
      "metadata": {
        "id": "8MrBnZn8-IvT",
        "colab_type": "text"
      },
      "source": [
        "## 5- Compile the network and run the training process"
      ]
    },
    {
      "cell_type": "code",
      "metadata": {
        "id": "g3GqfqUo9Pbr",
        "colab_type": "code",
        "colab": {
          "base_uri": "https://localhost:8080/",
          "height": 819
        },
        "outputId": "3a7e791d-8d66-4c6f-f3df-930f1214afe0"
      },
      "source": [
        "new_model.compile(optimizer=Adam(learning_rate=0.0001), loss='categorical_crossentropy', metrics=['accuracy'])\n",
        "new_model.fit_generator(train_batches, steps_per_epoch=4, validation_data=valid_batches, validation_steps=4, epochs=20, verbose=2)"
      ],
      "execution_count": 12,
      "outputs": [
        {
          "output_type": "stream",
          "text": [
            "WARNING:tensorflow:From <ipython-input-12-c5592bfa0499>:2: Model.fit_generator (from tensorflow.python.keras.engine.training) is deprecated and will be removed in a future version.\n",
            "Instructions for updating:\n",
            "Please use Model.fit, which supports generators.\n",
            "Epoch 1/20\n",
            "4/4 - 3s - loss: 0.9991 - accuracy: 0.5982 - val_loss: 1.0671 - val_accuracy: 0.8058\n",
            "Epoch 2/20\n",
            "4/4 - 1s - loss: 0.3736 - accuracy: 0.8167 - val_loss: 0.7013 - val_accuracy: 0.8544\n",
            "Epoch 3/20\n",
            "4/4 - 1s - loss: 0.1494 - accuracy: 0.9643 - val_loss: 0.5510 - val_accuracy: 0.8641\n",
            "Epoch 4/20\n",
            "4/4 - 1s - loss: 0.2027 - accuracy: 0.9107 - val_loss: 0.4321 - val_accuracy: 0.8738\n",
            "Epoch 5/20\n",
            "4/4 - 1s - loss: 0.1536 - accuracy: 0.9375 - val_loss: 0.3761 - val_accuracy: 0.8738\n",
            "Epoch 6/20\n",
            "4/4 - 1s - loss: 0.0733 - accuracy: 0.9464 - val_loss: 0.3104 - val_accuracy: 0.8932\n",
            "Epoch 7/20\n",
            "4/4 - 1s - loss: 0.0489 - accuracy: 0.9821 - val_loss: 0.2718 - val_accuracy: 0.9029\n",
            "Epoch 8/20\n",
            "4/4 - 1s - loss: 0.0305 - accuracy: 0.9917 - val_loss: 0.2421 - val_accuracy: 0.9029\n",
            "Epoch 9/20\n",
            "4/4 - 1s - loss: 0.0277 - accuracy: 0.9917 - val_loss: 0.2109 - val_accuracy: 0.9029\n",
            "Epoch 10/20\n",
            "4/4 - 1s - loss: 0.0231 - accuracy: 0.9911 - val_loss: 0.1818 - val_accuracy: 0.9126\n",
            "Epoch 11/20\n",
            "4/4 - 1s - loss: 0.0391 - accuracy: 0.9911 - val_loss: 0.1565 - val_accuracy: 0.9223\n",
            "Epoch 12/20\n",
            "4/4 - 1s - loss: 0.0152 - accuracy: 1.0000 - val_loss: 0.1391 - val_accuracy: 0.9320\n",
            "Epoch 13/20\n",
            "4/4 - 1s - loss: 0.0229 - accuracy: 1.0000 - val_loss: 0.1294 - val_accuracy: 0.9320\n",
            "Epoch 14/20\n",
            "4/4 - 1s - loss: 0.0138 - accuracy: 1.0000 - val_loss: 0.1205 - val_accuracy: 0.9417\n",
            "Epoch 15/20\n",
            "4/4 - 1s - loss: 0.0102 - accuracy: 1.0000 - val_loss: 0.1135 - val_accuracy: 0.9417\n",
            "Epoch 16/20\n",
            "4/4 - 1s - loss: 0.0106 - accuracy: 1.0000 - val_loss: 0.1078 - val_accuracy: 0.9417\n",
            "Epoch 17/20\n",
            "4/4 - 1s - loss: 0.0220 - accuracy: 0.9911 - val_loss: 0.0991 - val_accuracy: 0.9515\n",
            "Epoch 18/20\n",
            "4/4 - 1s - loss: 0.0078 - accuracy: 1.0000 - val_loss: 0.0928 - val_accuracy: 0.9515\n",
            "Epoch 19/20\n",
            "4/4 - 1s - loss: 0.0107 - accuracy: 1.0000 - val_loss: 0.0893 - val_accuracy: 0.9515\n",
            "Epoch 20/20\n",
            "4/4 - 1s - loss: 0.0101 - accuracy: 1.0000 - val_loss: 0.0866 - val_accuracy: 0.9515\n"
          ],
          "name": "stdout"
        },
        {
          "output_type": "execute_result",
          "data": {
            "text/plain": [
              "<tensorflow.python.keras.callbacks.History at 0x7eff84681f28>"
            ]
          },
          "metadata": {
            "tags": []
          },
          "execution_count": 12
        }
      ]
    },
    {
      "cell_type": "markdown",
      "metadata": {
        "id": "RG1zPlvu_zFu",
        "colab_type": "text"
      },
      "source": [
        "Notice that the model was trained very quickly using a regular CPU computing power. Each epoch took approximately 25 to 29 seconds which means that it took the model less than 10 minutes to train for 20 epochs."
      ]
    },
    {
      "cell_type": "markdown",
      "metadata": {
        "id": "uAs9NVS-_4At",
        "colab_type": "text"
      },
      "source": [
        "## 6- Evaluate the model."
      ]
    },
    {
      "cell_type": "markdown",
      "metadata": {
        "id": "ZFY73jeOABGd",
        "colab_type": "text"
      },
      "source": [
        "Now, let’s use Keras’s evaluate() method to calculate the model accuracy."
      ]
    },
    {
      "cell_type": "code",
      "metadata": {
        "id": "-Op3n7lS-4FZ",
        "colab_type": "code",
        "colab": {}
      },
      "source": [
        "def load_dataset(path):\n",
        "  data = load_files(path)\n",
        "  paths = k.array(data['filenames'])\n",
        "  targets = to_categorical(np.array(data['target']))\n",
        "\n",
        "  return paths, targets"
      ],
      "execution_count": 25,
      "outputs": []
    },
    {
      "cell_type": "code",
      "metadata": {
        "id": "lPiRVT2LBM7h",
        "colab_type": "code",
        "colab": {}
      },
      "source": [
        "test_files, test_targets = load_dataset(\"dogs_vs_cats_dataset/data/test\")"
      ],
      "execution_count": 26,
      "outputs": []
    },
    {
      "cell_type": "code",
      "metadata": {
        "id": "L9L1H9DmC9i5",
        "colab_type": "code",
        "colab": {}
      },
      "source": [
        "def path_to_tensor(img_path): \n",
        "  # loads RGB image as PIL.Image.Image type\n",
        "  image = load_img(img_path, target_size=(224, 224))\n",
        "\n",
        "  # convert PIL.Image.Image type to 3D tensor with shape (224, 224, 3)\n",
        "  image = img_to_array(image)\n",
        "\n",
        "  # convert 3D tensor to 4D tensor with shape (1, 224, 224, 3) and return 4D tensor \n",
        "  return np.expand_dims(x, axis=0)"
      ],
      "execution_count": 17,
      "outputs": []
    },
    {
      "cell_type": "code",
      "metadata": {
        "id": "3iDHKORNEHOU",
        "colab_type": "code",
        "colab": {}
      },
      "source": [
        "def paths_to_tensor(img_paths):\n",
        "  list_of_tensors = [path_to_tensor(img_path) for img_path in tqdm(img_paths)]\n",
        "\n",
        "  return np.vstack(list_of_tensors)"
      ],
      "execution_count": 18,
      "outputs": []
    },
    {
      "cell_type": "code",
      "metadata": {
        "id": "4s6lhC8UExhA",
        "colab_type": "code",
        "colab": {
          "base_uri": "https://localhost:8080/",
          "height": 405
        },
        "outputId": "a8201743-8ad9-4cf7-a2b1-2ecb853d094a"
      },
      "source": [
        "test_tensors = preprocess_input(paths_to_tensor(test_files))"
      ],
      "execution_count": 20,
      "outputs": [
        {
          "output_type": "stream",
          "text": [
            "\n",
            "  0%|          | 0/451 [00:00<?, ?it/s]\u001b[A"
          ],
          "name": "stderr"
        },
        {
          "output_type": "error",
          "ename": "NotImplementedError",
          "evalue": "ignored",
          "traceback": [
            "\u001b[0;31m---------------------------------------------------------------------------\u001b[0m",
            "\u001b[0;31mNotImplementedError\u001b[0m                       Traceback (most recent call last)",
            "\u001b[0;32m<ipython-input-20-944937dc4e0a>\u001b[0m in \u001b[0;36m<module>\u001b[0;34m()\u001b[0m\n\u001b[0;32m----> 1\u001b[0;31m \u001b[0mtest_tensors\u001b[0m \u001b[0;34m=\u001b[0m \u001b[0mpreprocess_input\u001b[0m\u001b[0;34m(\u001b[0m\u001b[0mpaths_to_tensor\u001b[0m\u001b[0;34m(\u001b[0m\u001b[0mtest_files\u001b[0m\u001b[0;34m)\u001b[0m\u001b[0;34m)\u001b[0m\u001b[0;34m\u001b[0m\u001b[0;34m\u001b[0m\u001b[0m\n\u001b[0m",
            "\u001b[0;32m<ipython-input-18-16acb689c8f8>\u001b[0m in \u001b[0;36mpaths_to_tensor\u001b[0;34m(img_paths)\u001b[0m\n\u001b[1;32m      1\u001b[0m \u001b[0;32mdef\u001b[0m \u001b[0mpaths_to_tensor\u001b[0m\u001b[0;34m(\u001b[0m\u001b[0mimg_paths\u001b[0m\u001b[0;34m)\u001b[0m\u001b[0;34m:\u001b[0m\u001b[0;34m\u001b[0m\u001b[0;34m\u001b[0m\u001b[0m\n\u001b[0;32m----> 2\u001b[0;31m   \u001b[0mlist_of_tensors\u001b[0m \u001b[0;34m=\u001b[0m \u001b[0;34m[\u001b[0m\u001b[0mpath_to_tensor\u001b[0m\u001b[0;34m(\u001b[0m\u001b[0mimg_path\u001b[0m\u001b[0;34m)\u001b[0m \u001b[0;32mfor\u001b[0m \u001b[0mimg_path\u001b[0m \u001b[0;32min\u001b[0m \u001b[0mtqdm\u001b[0m\u001b[0;34m(\u001b[0m\u001b[0mimg_paths\u001b[0m\u001b[0;34m)\u001b[0m\u001b[0;34m]\u001b[0m\u001b[0;34m\u001b[0m\u001b[0;34m\u001b[0m\u001b[0m\n\u001b[0m\u001b[1;32m      3\u001b[0m \u001b[0;34m\u001b[0m\u001b[0m\n\u001b[1;32m      4\u001b[0m   \u001b[0;32mreturn\u001b[0m \u001b[0mnp\u001b[0m\u001b[0;34m.\u001b[0m\u001b[0mvstack\u001b[0m\u001b[0;34m(\u001b[0m\u001b[0mlist_of_tensors\u001b[0m\u001b[0;34m)\u001b[0m\u001b[0;34m\u001b[0m\u001b[0;34m\u001b[0m\u001b[0m\n",
            "\u001b[0;32m<ipython-input-18-16acb689c8f8>\u001b[0m in \u001b[0;36m<listcomp>\u001b[0;34m(.0)\u001b[0m\n\u001b[1;32m      1\u001b[0m \u001b[0;32mdef\u001b[0m \u001b[0mpaths_to_tensor\u001b[0m\u001b[0;34m(\u001b[0m\u001b[0mimg_paths\u001b[0m\u001b[0;34m)\u001b[0m\u001b[0;34m:\u001b[0m\u001b[0;34m\u001b[0m\u001b[0;34m\u001b[0m\u001b[0m\n\u001b[0;32m----> 2\u001b[0;31m   \u001b[0mlist_of_tensors\u001b[0m \u001b[0;34m=\u001b[0m \u001b[0;34m[\u001b[0m\u001b[0mpath_to_tensor\u001b[0m\u001b[0;34m(\u001b[0m\u001b[0mimg_path\u001b[0m\u001b[0;34m)\u001b[0m \u001b[0;32mfor\u001b[0m \u001b[0mimg_path\u001b[0m \u001b[0;32min\u001b[0m \u001b[0mtqdm\u001b[0m\u001b[0;34m(\u001b[0m\u001b[0mimg_paths\u001b[0m\u001b[0;34m)\u001b[0m\u001b[0;34m]\u001b[0m\u001b[0;34m\u001b[0m\u001b[0;34m\u001b[0m\u001b[0m\n\u001b[0m\u001b[1;32m      3\u001b[0m \u001b[0;34m\u001b[0m\u001b[0m\n\u001b[1;32m      4\u001b[0m   \u001b[0;32mreturn\u001b[0m \u001b[0mnp\u001b[0m\u001b[0;34m.\u001b[0m\u001b[0mvstack\u001b[0m\u001b[0;34m(\u001b[0m\u001b[0mlist_of_tensors\u001b[0m\u001b[0;34m)\u001b[0m\u001b[0;34m\u001b[0m\u001b[0;34m\u001b[0m\u001b[0m\n",
            "\u001b[0;32m<ipython-input-17-735d052e8318>\u001b[0m in \u001b[0;36mpath_to_tensor\u001b[0;34m(img_path)\u001b[0m\n\u001b[1;32m      7\u001b[0m \u001b[0;34m\u001b[0m\u001b[0m\n\u001b[1;32m      8\u001b[0m   \u001b[0;31m# convert 3D tensor to 4D tensor with shape (1, 224, 224, 3) and return 4D tensor\u001b[0m\u001b[0;34m\u001b[0m\u001b[0;34m\u001b[0m\u001b[0;34m\u001b[0m\u001b[0m\n\u001b[0;32m----> 9\u001b[0;31m   \u001b[0;32mreturn\u001b[0m \u001b[0mnp\u001b[0m\u001b[0;34m.\u001b[0m\u001b[0mexpand_dims\u001b[0m\u001b[0;34m(\u001b[0m\u001b[0mx\u001b[0m\u001b[0;34m,\u001b[0m \u001b[0maxis\u001b[0m\u001b[0;34m=\u001b[0m\u001b[0;36m0\u001b[0m\u001b[0;34m)\u001b[0m\u001b[0;34m\u001b[0m\u001b[0;34m\u001b[0m\u001b[0m\n\u001b[0m",
            "\u001b[0;32m<__array_function__ internals>\u001b[0m in \u001b[0;36mexpand_dims\u001b[0;34m(*args, **kwargs)\u001b[0m\n",
            "\u001b[0;32m/usr/local/lib/python3.6/dist-packages/numpy/lib/shape_base.py\u001b[0m in \u001b[0;36mexpand_dims\u001b[0;34m(a, axis)\u001b[0m\n\u001b[1;32m    589\u001b[0m         \u001b[0ma\u001b[0m \u001b[0;34m=\u001b[0m \u001b[0masarray\u001b[0m\u001b[0;34m(\u001b[0m\u001b[0ma\u001b[0m\u001b[0;34m)\u001b[0m\u001b[0;34m\u001b[0m\u001b[0;34m\u001b[0m\u001b[0m\n\u001b[1;32m    590\u001b[0m     \u001b[0;32melse\u001b[0m\u001b[0;34m:\u001b[0m\u001b[0;34m\u001b[0m\u001b[0;34m\u001b[0m\u001b[0m\n\u001b[0;32m--> 591\u001b[0;31m         \u001b[0ma\u001b[0m \u001b[0;34m=\u001b[0m \u001b[0masanyarray\u001b[0m\u001b[0;34m(\u001b[0m\u001b[0ma\u001b[0m\u001b[0;34m)\u001b[0m\u001b[0;34m\u001b[0m\u001b[0;34m\u001b[0m\u001b[0m\n\u001b[0m\u001b[1;32m    592\u001b[0m \u001b[0;34m\u001b[0m\u001b[0m\n\u001b[1;32m    593\u001b[0m     \u001b[0;32mif\u001b[0m \u001b[0mtype\u001b[0m\u001b[0;34m(\u001b[0m\u001b[0maxis\u001b[0m\u001b[0;34m)\u001b[0m \u001b[0;32mnot\u001b[0m \u001b[0;32min\u001b[0m \u001b[0;34m(\u001b[0m\u001b[0mtuple\u001b[0m\u001b[0;34m,\u001b[0m \u001b[0mlist\u001b[0m\u001b[0;34m)\u001b[0m\u001b[0;34m:\u001b[0m\u001b[0;34m\u001b[0m\u001b[0;34m\u001b[0m\u001b[0m\n",
            "\u001b[0;32m/usr/local/lib/python3.6/dist-packages/numpy/core/_asarray.py\u001b[0m in \u001b[0;36masanyarray\u001b[0;34m(a, dtype, order)\u001b[0m\n\u001b[1;32m    136\u001b[0m \u001b[0;34m\u001b[0m\u001b[0m\n\u001b[1;32m    137\u001b[0m     \"\"\"\n\u001b[0;32m--> 138\u001b[0;31m     \u001b[0;32mreturn\u001b[0m \u001b[0marray\u001b[0m\u001b[0;34m(\u001b[0m\u001b[0ma\u001b[0m\u001b[0;34m,\u001b[0m \u001b[0mdtype\u001b[0m\u001b[0;34m,\u001b[0m \u001b[0mcopy\u001b[0m\u001b[0;34m=\u001b[0m\u001b[0;32mFalse\u001b[0m\u001b[0;34m,\u001b[0m \u001b[0morder\u001b[0m\u001b[0;34m=\u001b[0m\u001b[0morder\u001b[0m\u001b[0;34m,\u001b[0m \u001b[0msubok\u001b[0m\u001b[0;34m=\u001b[0m\u001b[0;32mTrue\u001b[0m\u001b[0;34m)\u001b[0m\u001b[0;34m\u001b[0m\u001b[0;34m\u001b[0m\u001b[0m\n\u001b[0m\u001b[1;32m    139\u001b[0m \u001b[0;34m\u001b[0m\u001b[0m\n\u001b[1;32m    140\u001b[0m \u001b[0;34m\u001b[0m\u001b[0m\n",
            "\u001b[0;32m/usr/local/lib/python3.6/dist-packages/tensorflow/python/framework/ops.py\u001b[0m in \u001b[0;36m__array__\u001b[0;34m(self)\u001b[0m\n\u001b[1;32m    846\u001b[0m         \u001b[0;34m\"Cannot convert a symbolic Tensor ({}) to a numpy array.\"\u001b[0m\u001b[0;34m\u001b[0m\u001b[0;34m\u001b[0m\u001b[0m\n\u001b[1;32m    847\u001b[0m         \u001b[0;34m\" This error may indicate that you're trying to pass a Tensor to\"\u001b[0m\u001b[0;34m\u001b[0m\u001b[0;34m\u001b[0m\u001b[0m\n\u001b[0;32m--> 848\u001b[0;31m         \" a NumPy call, which is not supported\".format(self.name))\n\u001b[0m\u001b[1;32m    849\u001b[0m \u001b[0;34m\u001b[0m\u001b[0m\n\u001b[1;32m    850\u001b[0m   \u001b[0;32mdef\u001b[0m \u001b[0m__len__\u001b[0m\u001b[0;34m(\u001b[0m\u001b[0mself\u001b[0m\u001b[0;34m)\u001b[0m\u001b[0;34m:\u001b[0m\u001b[0;34m\u001b[0m\u001b[0;34m\u001b[0m\u001b[0m\n",
            "\u001b[0;31mNotImplementedError\u001b[0m: Cannot convert a symbolic Tensor (softmax/Softmax_1:0) to a numpy array. This error may indicate that you're trying to pass a Tensor to a NumPy call, which is not supported"
          ]
        }
      ]
    },
    {
      "cell_type": "code",
      "metadata": {
        "id": "IfCugfV2FE7I",
        "colab_type": "code",
        "colab": {}
      },
      "source": [
        "print('\\nTesting loss: {:.4f}\\nTesting accuracy: {:.4f}'.format(*new_model.evaluate(test_tensors, test_targets)))"
      ],
      "execution_count": null,
      "outputs": []
    },
    {
      "cell_type": "code",
      "metadata": {
        "id": "ss9hdlV6YMul",
        "colab_type": "code",
        "colab": {}
      },
      "source": [
        "# evaluate and print test accuracy\n",
        "score = new_model.evaluate(test_tensors, test_targets)\n",
        "print('\\n', 'Test accuracy:', score[1])"
      ],
      "execution_count": null,
      "outputs": []
    }
  ]
}